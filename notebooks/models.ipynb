{
 "cells": [
  {
   "cell_type": "code",
   "execution_count": 1,
   "id": "6eec444e",
   "metadata": {},
   "outputs": [],
   "source": [
    "# necesary imports\n",
    "\n",
    "import pandas as pd\n",
    "from sklearn.model_selection import train_test_split\n",
    "from sklearn.linear_model import LogisticRegression\n",
    "from sklearn.neighbors import KNeighborsClassifier\n",
    "from sklearn.ensemble import RandomForestClassifier\n",
    "from sklearn import preprocessing\n",
    "from sklearn.metrics import accuracy_score, f1_score, roc_auc_score\n",
    "\n",
    "import numpy as np\n",
    "import tensorflow as tf\n",
    "from tensorflow import keras\n",
    "from tensorflow.keras import layers"
   ]
  },
  {
   "cell_type": "code",
   "execution_count": 2,
   "id": "5a39bc00",
   "metadata": {},
   "outputs": [],
   "source": [
    "# open data sheet\n",
    "data = pd.read_csv('../data/reworked1.csv')\n",
    "data = data.drop(['Unnamed: 0'], axis=1)\n",
    "y_cols = ['foot', 'lower_leg', 'upper_leg', 'upper_body', 'arms', 'head', 'minor', 'injury']\n",
    "y_data = data[y_cols]\n",
    "x_data = data.drop(y_cols, axis=1)\n",
    "x_train, x_test, y_train, y_test = train_test_split(x_data, y_data, test_size=0.25, random_state=3)"
   ]
  },
  {
   "cell_type": "code",
   "execution_count": 3,
   "id": "7415a2e4",
   "metadata": {},
   "outputs": [
    {
     "name": "stdout",
     "output_type": "stream",
     "text": [
      "<class 'pandas.core.frame.DataFrame'>\n",
      "RangeIndex: 19980 entries, 0 to 19979\n",
      "Columns: 178 entries, Age to injury\n",
      "dtypes: float64(178)\n",
      "memory usage: 27.1 MB\n",
      "None\n",
      "<class 'pandas.core.frame.DataFrame'>\n",
      "RangeIndex: 19980 entries, 0 to 19979\n",
      "Columns: 170 entries, Age to isVeryShort.13\n",
      "dtypes: float64(170)\n",
      "memory usage: 25.9 MB\n",
      "None\n"
     ]
    }
   ],
   "source": [
    "# testing cell really, to make sure sizes worked\n",
    "print(data.info())\n",
    "print(x_data.info())\n",
    "input_size = len(x_data.columns)\n",
    "# print(input_size)\n",
    "cols = list(x_data.columns)\n",
    "phys_cols = cols[:16]\n",
    "inj_hist = cols[16:]\n",
    "len(phys_cols), len(inj_hist)\n",
    "entries_per_injury = 11\n",
    "# y_data.columns\n",
    "# inj_hist"
   ]
  },
  {
   "cell_type": "code",
   "execution_count": 121,
   "id": "0f307b54",
   "metadata": {},
   "outputs": [],
   "source": [
    "# logistic classifier\n",
    "def logistic_classifier(x_train, y_train, x_test, y_test, params={'max_iter':1000}, verbose=False):\n",
    "    clf = {}\n",
    "    stats = {}\n",
    "    for label in y_cols:\n",
    "        y_train_label = y_train[label]\n",
    "        y_test_label = y_test[label]\n",
    "        clf[label] = LogisticRegression(max_iter=params['max_iter'], solver='liblinear').fit(x_train, y_train_label)\n",
    "        label_predictions = clf[label].predict(x_test)\n",
    "        label_score = accuracy_score(y_test_label, label_predictions)\n",
    "        label_f1_score = f1_score(y_test_label, label_predictions)\n",
    "        label_auc = roc_auc_score(y_test_label, label_predictions)\n",
    "        stats[label] = {'accuracy': label_score, 'f1': label_f1_score, 'auc': label_auc}\n",
    "    \n",
    "    if verbose:\n",
    "        print(\"---------- Logistic Regression Model ----------\")\n",
    "        for label in y_cols:\n",
    "            print(\"{:12s} \\t| accuracy: {:10f}\\tf1: {:10f}\\t auc: {:10f}\".format(label, stats[label]['accuracy'], stats[label]['f1'], stats[label]['auc']))\n",
    "        \n",
    "    return clf, stats"
   ]
  },
  {
   "cell_type": "code",
   "execution_count": 120,
   "id": "bd50540b",
   "metadata": {},
   "outputs": [],
   "source": [
    "# knn classifier\n",
    "def knn_classifier(x_train, y_train, x_test, y_test, params={'n_neighbors':7}, verbose=False):\n",
    "    clf = {}\n",
    "    stats = {}\n",
    "    for label in y_cols:\n",
    "        y_train_label = y_train[label]\n",
    "        y_test_label = y_test[label]\n",
    "        clf[label] = KNeighborsClassifier(n_neighbors=params['n_neighbors']).fit(x_train, y_train_label)\n",
    "        label_predictions = clf[label].predict(x_test)\n",
    "        label_score = accuracy_score(y_test_label, label_predictions)\n",
    "        label_f1_score = f1_score(y_test_label, label_predictions)\n",
    "        label_auc = roc_auc_score(y_test_label, label_predictions)\n",
    "        stats[label] = {'accuracy': label_score, 'f1': label_f1_score, 'auc': label_auc}\n",
    "    \n",
    "    if verbose:\n",
    "        print(\"---------- KNN Model ----------\")\n",
    "        for label in y_cols:\n",
    "            print(\"{:12s} \\t| accuracy: {:10f}\\tf1: {:10f}\\t auc: {:10f}\".format(label, stats[label]['accuracy'], stats[label]['f1'], stats[label]['auc']))\n",
    "        \n",
    "    return clf, stats"
   ]
  },
  {
   "cell_type": "code",
   "execution_count": 119,
   "id": "aa27e67c",
   "metadata": {},
   "outputs": [],
   "source": [
    "# random forest classifier\n",
    "def random_forest_classifier(x_train, y_train, x_test, y_test, params={'n_estimators':15}, verbose=False):\n",
    "    clf = {}\n",
    "    stats = {}\n",
    "    for label in y_cols:\n",
    "        y_train_label = y_train[label]\n",
    "        y_test_label = y_test[label]\n",
    "        clf[label] = RandomForestClassifier(n_estimators=params['n_estimators'], n_jobs=12).fit(x_train, y_train_label)\n",
    "        label_predictions = clf[label].predict(x_test)\n",
    "        label_score = accuracy_score(y_test_label, label_predictions)\n",
    "        label_f1_score = f1_score(y_test_label, label_predictions)\n",
    "        label_auc = roc_auc_score(y_test_label, label_predictions)\n",
    "        stats[label] = {'accuracy': label_score, 'f1': label_f1_score, 'auc': label_auc}\n",
    "    \n",
    "    if verbose:\n",
    "        print(\"---------- Random Forest Model ----------\")\n",
    "        for label in y_cols:\n",
    "            print(\"{:12s} \\t| accuracy: {:10f}\\tf1: {:10f}\\t auc: {:10f}\".format(label, stats[label]['accuracy'], stats[label]['f1'], stats[label]['auc']))\n",
    "        \n",
    "    return clf, stats"
   ]
  },
  {
   "cell_type": "code",
   "execution_count": 7,
   "id": "726f793b",
   "metadata": {},
   "outputs": [
    {
     "name": "stdout",
     "output_type": "stream",
     "text": [
      "       foot  lower_leg  upper_leg  upper_body  arms  head  minor  injury\n",
      "17904   0.0        1.0        1.0         0.0   1.0   0.0    0.0     1.0\n",
      "17395   0.0        0.0        0.0         0.0   0.0   0.0    0.0     0.0\n",
      "15507   0.0        0.0        0.0         0.0   0.0   0.0    0.0     0.0\n",
      "3591    0.0        0.0        1.0         0.0   0.0   1.0    1.0     1.0\n",
      "6368    1.0        0.0        0.0         1.0   0.0   0.0    1.0     1.0\n",
      "...     ...        ...        ...         ...   ...   ...    ...     ...\n",
      "6400    0.0        0.0        0.0         0.0   0.0   0.0    0.0     0.0\n",
      "15288   0.0        0.0        1.0         1.0   0.0   1.0    1.0     1.0\n",
      "11513   0.0        0.0        0.0         0.0   0.0   0.0    0.0     0.0\n",
      "1688    1.0        0.0        1.0         1.0   0.0   1.0    0.0     1.0\n",
      "5994    0.0        0.0        0.0         0.0   0.0   0.0    0.0     0.0\n",
      "\n",
      "[14985 rows x 8 columns]\n"
     ]
    },
    {
     "ename": "ValueError",
     "evalue": "in user code:\n\n    File \"C:\\Users\\rvtay\\miniconda3\\envs\\dvahw4\\lib\\site-packages\\keras\\engine\\training.py\", line 878, in train_function  *\n        return step_function(self, iterator)\n    File \"C:\\Users\\rvtay\\miniconda3\\envs\\dvahw4\\lib\\site-packages\\keras\\engine\\training.py\", line 867, in step_function  **\n        outputs = model.distribute_strategy.run(run_step, args=(data,))\n    File \"C:\\Users\\rvtay\\miniconda3\\envs\\dvahw4\\lib\\site-packages\\keras\\engine\\training.py\", line 860, in run_step  **\n        outputs = model.train_step(data)\n    File \"C:\\Users\\rvtay\\miniconda3\\envs\\dvahw4\\lib\\site-packages\\keras\\engine\\training.py\", line 810, in train_step\n        y, y_pred, sample_weight, regularization_losses=self.losses)\n    File \"C:\\Users\\rvtay\\miniconda3\\envs\\dvahw4\\lib\\site-packages\\keras\\engine\\compile_utils.py\", line 201, in __call__\n        loss_value = loss_obj(y_t, y_p, sample_weight=sw)\n    File \"C:\\Users\\rvtay\\miniconda3\\envs\\dvahw4\\lib\\site-packages\\keras\\losses.py\", line 141, in __call__\n        losses = call_fn(y_true, y_pred)\n    File \"C:\\Users\\rvtay\\miniconda3\\envs\\dvahw4\\lib\\site-packages\\keras\\losses.py\", line 245, in call  **\n        return ag_fn(y_true, y_pred, **self._fn_kwargs)\n    File \"C:\\Users\\rvtay\\miniconda3\\envs\\dvahw4\\lib\\site-packages\\keras\\losses.py\", line 1807, in binary_crossentropy\n        backend.binary_crossentropy(y_true, y_pred, from_logits=from_logits),\n    File \"C:\\Users\\rvtay\\miniconda3\\envs\\dvahw4\\lib\\site-packages\\keras\\backend.py\", line 5158, in binary_crossentropy\n        return tf.nn.sigmoid_cross_entropy_with_logits(labels=target, logits=output)\n\n    ValueError: `logits` and `labels` must have the same shape, received ((None, 1) vs (None, 8)).\n",
     "output_type": "error",
     "traceback": [
      "\u001b[1;31m---------------------------------------------------------------------------\u001b[0m",
      "\u001b[1;31mValueError\u001b[0m                                Traceback (most recent call last)",
      "\u001b[1;32m~\\AppData\\Local\\Temp/ipykernel_12844/306733025.py\u001b[0m in \u001b[0;36m<module>\u001b[1;34m\u001b[0m\n\u001b[0;32m     67\u001b[0m \u001b[1;31m#             print(\"{:12s} \\t| accuracy: {:10f}\\tf1: {:10f}\\t auc: {:10f}\".format(label))\u001b[0m\u001b[1;33m\u001b[0m\u001b[1;33m\u001b[0m\u001b[1;33m\u001b[0m\u001b[0m\n\u001b[0;32m     68\u001b[0m \u001b[1;33m\u001b[0m\u001b[0m\n\u001b[1;32m---> 69\u001b[1;33m \u001b[0mnn_classifier\u001b[0m\u001b[1;33m(\u001b[0m\u001b[1;33m)\u001b[0m\u001b[1;33m\u001b[0m\u001b[1;33m\u001b[0m\u001b[0m\n\u001b[0m",
      "\u001b[1;32m~\\AppData\\Local\\Temp/ipykernel_12844/306733025.py\u001b[0m in \u001b[0;36mnn_classifier\u001b[1;34m(verbose)\u001b[0m\n\u001b[0;32m     50\u001b[0m     \u001b[0minj_data\u001b[0m \u001b[1;33m=\u001b[0m \u001b[0mx_train\u001b[0m\u001b[1;33m[\u001b[0m\u001b[0minj_hist\u001b[0m\u001b[1;33m[\u001b[0m\u001b[1;33m:\u001b[0m\u001b[1;33m:\u001b[0m\u001b[1;33m-\u001b[0m\u001b[1;36m1\u001b[0m\u001b[1;33m]\u001b[0m\u001b[1;33m]\u001b[0m\u001b[1;33m\u001b[0m\u001b[1;33m\u001b[0m\u001b[0m\n\u001b[0;32m     51\u001b[0m     \u001b[0mprint\u001b[0m\u001b[1;33m(\u001b[0m\u001b[0my_train\u001b[0m\u001b[1;33m)\u001b[0m\u001b[1;33m\u001b[0m\u001b[1;33m\u001b[0m\u001b[0m\n\u001b[1;32m---> 52\u001b[1;33m     \u001b[0mmodel\u001b[0m\u001b[1;33m.\u001b[0m\u001b[0mfit\u001b[0m\u001b[1;33m(\u001b[0m\u001b[1;33m[\u001b[0m\u001b[0mphys_data\u001b[0m\u001b[1;33m,\u001b[0m \u001b[0minj_data\u001b[0m\u001b[1;33m]\u001b[0m\u001b[1;33m,\u001b[0m \u001b[1;33m[\u001b[0m\u001b[0my_train\u001b[0m\u001b[1;33m.\u001b[0m\u001b[0mto_numpy\u001b[0m\u001b[1;33m(\u001b[0m\u001b[1;33m)\u001b[0m\u001b[1;33m[\u001b[0m\u001b[1;33m:\u001b[0m\u001b[1;33m]\u001b[0m\u001b[1;33m]\u001b[0m\u001b[1;33m,\u001b[0m \u001b[0mepochs\u001b[0m\u001b[1;33m=\u001b[0m\u001b[1;36m1\u001b[0m\u001b[1;33m)\u001b[0m\u001b[1;33m\u001b[0m\u001b[1;33m\u001b[0m\u001b[0m\n\u001b[0m\u001b[0;32m     53\u001b[0m \u001b[1;33m\u001b[0m\u001b[0m\n\u001b[0;32m     54\u001b[0m     \u001b[0mphys_data_test\u001b[0m \u001b[1;33m=\u001b[0m \u001b[0mx_test\u001b[0m\u001b[1;33m[\u001b[0m\u001b[0mphys_cols\u001b[0m\u001b[1;33m]\u001b[0m\u001b[1;33m\u001b[0m\u001b[1;33m\u001b[0m\u001b[0m\n",
      "\u001b[1;32m~\\miniconda3\\envs\\dvahw4\\lib\\site-packages\\keras\\utils\\traceback_utils.py\u001b[0m in \u001b[0;36merror_handler\u001b[1;34m(*args, **kwargs)\u001b[0m\n\u001b[0;32m     65\u001b[0m     \u001b[1;32mexcept\u001b[0m \u001b[0mException\u001b[0m \u001b[1;32mas\u001b[0m \u001b[0me\u001b[0m\u001b[1;33m:\u001b[0m  \u001b[1;31m# pylint: disable=broad-except\u001b[0m\u001b[1;33m\u001b[0m\u001b[1;33m\u001b[0m\u001b[0m\n\u001b[0;32m     66\u001b[0m       \u001b[0mfiltered_tb\u001b[0m \u001b[1;33m=\u001b[0m \u001b[0m_process_traceback_frames\u001b[0m\u001b[1;33m(\u001b[0m\u001b[0me\u001b[0m\u001b[1;33m.\u001b[0m\u001b[0m__traceback__\u001b[0m\u001b[1;33m)\u001b[0m\u001b[1;33m\u001b[0m\u001b[1;33m\u001b[0m\u001b[0m\n\u001b[1;32m---> 67\u001b[1;33m       \u001b[1;32mraise\u001b[0m \u001b[0me\u001b[0m\u001b[1;33m.\u001b[0m\u001b[0mwith_traceback\u001b[0m\u001b[1;33m(\u001b[0m\u001b[0mfiltered_tb\u001b[0m\u001b[1;33m)\u001b[0m \u001b[1;32mfrom\u001b[0m \u001b[1;32mNone\u001b[0m\u001b[1;33m\u001b[0m\u001b[1;33m\u001b[0m\u001b[0m\n\u001b[0m\u001b[0;32m     68\u001b[0m     \u001b[1;32mfinally\u001b[0m\u001b[1;33m:\u001b[0m\u001b[1;33m\u001b[0m\u001b[1;33m\u001b[0m\u001b[0m\n\u001b[0;32m     69\u001b[0m       \u001b[1;32mdel\u001b[0m \u001b[0mfiltered_tb\u001b[0m\u001b[1;33m\u001b[0m\u001b[1;33m\u001b[0m\u001b[0m\n",
      "\u001b[1;32m~\\miniconda3\\envs\\dvahw4\\lib\\site-packages\\tensorflow\\python\\framework\\func_graph.py\u001b[0m in \u001b[0;36mautograph_handler\u001b[1;34m(*args, **kwargs)\u001b[0m\n\u001b[0;32m   1127\u001b[0m           \u001b[1;32mexcept\u001b[0m \u001b[0mException\u001b[0m \u001b[1;32mas\u001b[0m \u001b[0me\u001b[0m\u001b[1;33m:\u001b[0m  \u001b[1;31m# pylint:disable=broad-except\u001b[0m\u001b[1;33m\u001b[0m\u001b[1;33m\u001b[0m\u001b[0m\n\u001b[0;32m   1128\u001b[0m             \u001b[1;32mif\u001b[0m \u001b[0mhasattr\u001b[0m\u001b[1;33m(\u001b[0m\u001b[0me\u001b[0m\u001b[1;33m,\u001b[0m \u001b[1;34m\"ag_error_metadata\"\u001b[0m\u001b[1;33m)\u001b[0m\u001b[1;33m:\u001b[0m\u001b[1;33m\u001b[0m\u001b[1;33m\u001b[0m\u001b[0m\n\u001b[1;32m-> 1129\u001b[1;33m               \u001b[1;32mraise\u001b[0m \u001b[0me\u001b[0m\u001b[1;33m.\u001b[0m\u001b[0mag_error_metadata\u001b[0m\u001b[1;33m.\u001b[0m\u001b[0mto_exception\u001b[0m\u001b[1;33m(\u001b[0m\u001b[0me\u001b[0m\u001b[1;33m)\u001b[0m\u001b[1;33m\u001b[0m\u001b[1;33m\u001b[0m\u001b[0m\n\u001b[0m\u001b[0;32m   1130\u001b[0m             \u001b[1;32melse\u001b[0m\u001b[1;33m:\u001b[0m\u001b[1;33m\u001b[0m\u001b[1;33m\u001b[0m\u001b[0m\n\u001b[0;32m   1131\u001b[0m               \u001b[1;32mraise\u001b[0m\u001b[1;33m\u001b[0m\u001b[1;33m\u001b[0m\u001b[0m\n",
      "\u001b[1;31mValueError\u001b[0m: in user code:\n\n    File \"C:\\Users\\rvtay\\miniconda3\\envs\\dvahw4\\lib\\site-packages\\keras\\engine\\training.py\", line 878, in train_function  *\n        return step_function(self, iterator)\n    File \"C:\\Users\\rvtay\\miniconda3\\envs\\dvahw4\\lib\\site-packages\\keras\\engine\\training.py\", line 867, in step_function  **\n        outputs = model.distribute_strategy.run(run_step, args=(data,))\n    File \"C:\\Users\\rvtay\\miniconda3\\envs\\dvahw4\\lib\\site-packages\\keras\\engine\\training.py\", line 860, in run_step  **\n        outputs = model.train_step(data)\n    File \"C:\\Users\\rvtay\\miniconda3\\envs\\dvahw4\\lib\\site-packages\\keras\\engine\\training.py\", line 810, in train_step\n        y, y_pred, sample_weight, regularization_losses=self.losses)\n    File \"C:\\Users\\rvtay\\miniconda3\\envs\\dvahw4\\lib\\site-packages\\keras\\engine\\compile_utils.py\", line 201, in __call__\n        loss_value = loss_obj(y_t, y_p, sample_weight=sw)\n    File \"C:\\Users\\rvtay\\miniconda3\\envs\\dvahw4\\lib\\site-packages\\keras\\losses.py\", line 141, in __call__\n        losses = call_fn(y_true, y_pred)\n    File \"C:\\Users\\rvtay\\miniconda3\\envs\\dvahw4\\lib\\site-packages\\keras\\losses.py\", line 245, in call  **\n        return ag_fn(y_true, y_pred, **self._fn_kwargs)\n    File \"C:\\Users\\rvtay\\miniconda3\\envs\\dvahw4\\lib\\site-packages\\keras\\losses.py\", line 1807, in binary_crossentropy\n        backend.binary_crossentropy(y_true, y_pred, from_logits=from_logits),\n    File \"C:\\Users\\rvtay\\miniconda3\\envs\\dvahw4\\lib\\site-packages\\keras\\backend.py\", line 5158, in binary_crossentropy\n        return tf.nn.sigmoid_cross_entropy_with_logits(labels=target, logits=output)\n\n    ValueError: `logits` and `labels` must have the same shape, received ((None, 1) vs (None, 8)).\n"
     ]
    }
   ],
   "source": [
    "# tried to make a custom nn classifier with a lstm DIDNT WORK\n",
    "def nn_classifier(verbose=True):\n",
    "    # input layers\n",
    "    phys_traits_input = keras.Input(\n",
    "        shape=(len(phys_cols),), name='physical_input'\n",
    "    )\n",
    "    inj_input = keras.Input(\n",
    "        shape=(len(inj_hist),1,), name='inj_hist_input'\n",
    "    )\n",
    "    \n",
    "    # lstm\n",
    "    phys_features = layers.LSTM(11, return_sequences=False)(inj_input)\n",
    "    \n",
    "    # merge into 1 combined layer\n",
    "    x = layers.concatenate([phys_traits_input, phys_features])\n",
    "    \n",
    "    # a few fully connected layers\n",
    "    seq_model = keras.Sequential(\n",
    "        [\n",
    "            layers.Dense(64, activation='relu'),\n",
    "            layers.Dense(32, activation='relu')\n",
    "        ]\n",
    "    )(x)\n",
    "    \n",
    "    # a seperate 1 node layer for each output\n",
    "    \n",
    "    foot_layer = layers.Dense(1, activation='softmax')(seq_model)\n",
    "    lower_leg_layer = layers.Dense(1, activation='softmax')(seq_model)\n",
    "    upper_leg_layer = layers.Dense(1, activation='softmax')(seq_model)\n",
    "    upper_body_layer = layers.Dense(1, activation='softmax')(seq_model)\n",
    "    arms_layer = layers.Dense(1, activation='softmax')(seq_model)\n",
    "    head_layer = layers.Dense(1, activation='softmax')(seq_model)\n",
    "    minor_layer = layers.Dense(1, activation='softmax')(seq_model)\n",
    "    injury_layer = layers.Dense(1, activation='softmax')(seq_model)\n",
    "    \n",
    "    \n",
    "    # create model\n",
    "    model = keras.Model(\n",
    "        inputs=[phys_traits_input, inj_input],\n",
    "        outputs=[foot_layer, lower_leg_layer, upper_leg_layer, upper_body_layer, arms_layer, head_layer, minor_layer, injury_layer]\n",
    "    )\n",
    "    \n",
    "    model.compile(\n",
    "        optimizer='adam',\n",
    "        loss='BinaryCrossentropy',\n",
    "        metrics=['accuracy']\n",
    "    )\n",
    "    \n",
    "    phys_data = x_train[phys_cols]\n",
    "    inj_data = x_train[inj_hist[::-1]]\n",
    "    print(y_train)\n",
    "    model.fit([phys_data, inj_data], [y_train.to_numpy()[:]], epochs=1)\n",
    "    \n",
    "    phys_data_test = x_test[phys_cols]\n",
    "    inj_data_test = x_test[inj_hist[::-1]]\n",
    "    predictions = model.predict([phys_data_test, inj_data_test])\n",
    "    \n",
    "    print(perdictions)\n",
    "#         label_score = accuracy_score(y_test_label, label_predictions)\n",
    "#         label_f1_score = f1_score(y_test_label, label_predictions)\n",
    "#         label_auc = roc_auc_score(y_test_label, label_predictions)\n",
    "#         stats[label] = {'accuracy': label_score, 'f1': label_f1_score, 'auc': label_auc}\n",
    "\n",
    "#     if verbose:\n",
    "#         print(\"---------- Custom Neural Network Model ----------\")\n",
    "#         for label in y_cols:\n",
    "#             print(\"{:12s} \\t| accuracy: {:10f}\\tf1: {:10f}\\t auc: {:10f}\".format(label))\n",
    "    \n",
    "nn_classifier()                                                                                "
   ]
  },
  {
   "cell_type": "code",
   "execution_count": 9,
   "id": "c0c61da9",
   "metadata": {},
   "outputs": [
    {
     "name": "stdout",
     "output_type": "stream",
     "text": [
      "---------- Random Forest Model ----------\n",
      "foot         \t| accuracy:   0.891091\tf1:   0.821288\t auc:   0.869607\n",
      "lower_leg    \t| accuracy:   0.920721\tf1:   0.814607\t auc:   0.880801\n",
      "upper_leg    \t| accuracy:   0.909710\tf1:   0.869010\t auc:   0.898191\n",
      "upper_body   \t| accuracy:   0.922923\tf1:   0.883014\t auc:   0.911578\n",
      "arms         \t| accuracy:   0.911311\tf1:   0.824832\t auc:   0.883635\n",
      "head         \t| accuracy:   0.960160\tf1:   0.787166\t auc:   0.882228\n",
      "minor        \t| accuracy:   0.932132\tf1:   0.928466\t auc:   0.931829\n",
      "injury       \t| accuracy:   0.924925\tf1:   0.939330\t auc:   0.923091\n",
      "---------- Logistic Regression Model ----------\n",
      "foot         \t| accuracy:   0.915516\tf1:   0.862182\t auc:   0.899910\n",
      "lower_leg    \t| accuracy:   0.924525\tf1:   0.811594\t auc:   0.863590\n",
      "upper_leg    \t| accuracy:   0.951151\tf1:   0.930995\t auc:   0.950073\n",
      "upper_body   \t| accuracy:   0.939940\tf1:   0.911609\t auc:   0.938629\n",
      "arms         \t| accuracy:   0.915716\tf1:   0.823184\t auc:   0.870013\n",
      "head         \t| accuracy:   0.974174\tf1:   0.848057\t auc:   0.882296\n",
      "minor        \t| accuracy:   0.957758\tf1:   0.956593\t auc:   0.958695\n",
      "injury       \t| accuracy:   0.974575\tf1:   0.979896\t auc:   0.968794\n",
      "---------- KNN Model ----------\n",
      "foot         \t| accuracy:   0.913714\tf1:   0.861281\t auc:   0.901867\n",
      "lower_leg    \t| accuracy:   0.920521\tf1:   0.807375\t auc:   0.867810\n",
      "upper_leg    \t| accuracy:   0.886887\tf1:   0.846592\t auc:   0.889124\n",
      "upper_body   \t| accuracy:   0.899700\tf1:   0.854233\t auc:   0.896499\n",
      "arms         \t| accuracy:   0.917918\tf1:   0.840218\t auc:   0.897256\n",
      "head         \t| accuracy:   0.968569\tf1:   0.826519\t auc:   0.892614\n",
      "minor        \t| accuracy:   0.886687\tf1:   0.888451\t auc:   0.889520\n",
      "injury       \t| accuracy:   0.905706\tf1:   0.926487\t auc:   0.890574\n"
     ]
    }
   ],
   "source": [
    "rf_clf, rf_stats = random_forest_classifier(x_train, y_train, x_test, y_test, verbose=True)\n",
    "lr_clf, lr_stats = logistic_classifier(x_train, y_train, x_test, y_test, verbose=True)\n",
    "knn_clf, knn_stats = knn_classifier(x_train, y_train, x_test, y_test, verbose=True)"
   ]
  },
  {
   "cell_type": "code",
   "execution_count": 82,
   "id": "721da69f",
   "metadata": {},
   "outputs": [],
   "source": [
    "# a method we can call that will use the dictionary structure above and output probabilities\n",
    "def classifier_predict(clf, x_data):\n",
    "    return clf.predict_proba(x_data)[:,1]\n",
    "\n",
    "# only predicts one label, useful for tabpy\n",
    "# x_data should be one row\n",
    "# def classifier_predict_field(clf, field, x_data):\n",
    "#     x_data = x_data.reshape((1,-1))\n",
    "#     label_classifier = clf[field]\n",
    "#     pred = label_classifier.predict_proba(x_data)[0,1]\n",
    "#     return pred"
   ]
  },
  {
   "cell_type": "code",
   "execution_count": 101,
   "id": "635e18dc",
   "metadata": {},
   "outputs": [],
   "source": [
    "from joblib import dump, load\n",
    "import os\n",
    "def save_classifier(clf, filepath):\n",
    "    if not os.path.isdir(filepath):\n",
    "        os.mkdir(filepath)\n",
    "    for k in clf.keys():\n",
    "        new_path = os.path.join(filepath, k + \".joblib\")\n",
    "        dump(clf[k], new_path)\n",
    "    \n",
    "def load_classifier(filepath):\n",
    "    clf = load(filepath)\n",
    "    return clf\n",
    "\n",
    "def load_label_classifier(filepath, label):\n",
    "    full_path = os.path.join(filepath, label + \".joblib\")\n",
    "    return load(full_path)"
   ]
  },
  {
   "cell_type": "code",
   "execution_count": 12,
   "id": "14db9f4b",
   "metadata": {},
   "outputs": [],
   "source": [
    "save_classifier(lr_clf, \"..\\\\models\\\\lr.joblib\")"
   ]
  },
  {
   "cell_type": "code",
   "execution_count": 40,
   "id": "3db0be87",
   "metadata": {},
   "outputs": [
    {
     "name": "stdout",
     "output_type": "stream",
     "text": [
      "          foot  lower_leg  upper_leg  upper_body      arms          head  \\\n",
      "0     0.994831   0.013657   0.944021    0.955111  0.892417  1.961292e-03   \n",
      "1     0.435758   0.497008   0.514070    0.530234  0.353820  7.408421e-02   \n",
      "2     0.019451   0.029781   0.009835    0.003557  0.037421  6.039563e-03   \n",
      "3     0.992493   0.000114   0.006709    0.996847  0.007090  1.494897e-03   \n",
      "4     0.000112   0.000123   0.000031    0.000004  0.000176  1.301877e-04   \n",
      "...        ...        ...        ...         ...       ...           ...   \n",
      "4990  0.934162   0.006899   0.979093    0.978625  0.005681  1.501599e-07   \n",
      "4991  0.000053   0.003427   0.940232    0.005521  0.010435  1.170729e-06   \n",
      "4992  0.330864   0.228490   0.997374    0.768057  0.688141  1.443452e-01   \n",
      "4993  0.001463   0.000013   0.003532    0.023448  0.000056  2.129177e-08   \n",
      "4994  0.363903   0.241510   0.420040    0.155238  0.427890  1.243741e-01   \n",
      "\n",
      "         minor    injury  \n",
      "0     0.958936  0.940679  \n",
      "1     0.647787  0.745509  \n",
      "2     0.015051  0.020987  \n",
      "3     0.130720  0.993828  \n",
      "4     0.000014  0.000032  \n",
      "...        ...       ...  \n",
      "4990  0.996164  0.991551  \n",
      "4991  0.998357  0.999389  \n",
      "4992  0.991611  0.997114  \n",
      "4993  0.928911  0.957274  \n",
      "4994  0.564430  0.582817  \n",
      "\n",
      "[4995 rows x 8 columns]\n",
      "0.9948306268783954\n"
     ]
    }
   ],
   "source": [
    "lr2_clf = load_classifier(\"..\\\\models\\\\lr.joblib\")\n",
    "print(classifier_predict(lr2_clf, x_test))\n",
    "row = x_test.iloc[0]\n",
    "print(classifier_predict_field(lr2_clf, 'foot', row))"
   ]
  },
  {
   "cell_type": "code",
   "execution_count": 14,
   "id": "51a5eecf",
   "metadata": {},
   "outputs": [],
   "source": [
    "# trying with no injury history\n",
    "data2 = pd.read_csv('../data/data_nohist.csv')\n",
    "y_cols = ['foot', 'lower_leg', 'upper_leg', 'upper_body', 'arms', 'head', 'minor', 'injury']\n",
    "y_data2 = data2[y_cols]\n",
    "x_data2 = data2.drop(y_cols, axis=1)\n",
    "x_train2, x_test2, y_train2, y_test2 = train_test_split(x_data2, y_data2, test_size=0.25, random_state=3)"
   ]
  },
  {
   "cell_type": "code",
   "execution_count": 17,
   "id": "269f7f17",
   "metadata": {},
   "outputs": [
    {
     "name": "stdout",
     "output_type": "stream",
     "text": [
      "---------- Random Forest Model ----------\n",
      "foot         \t| accuracy:   0.480480\tf1:   0.507123\t auc:   0.479409\n",
      "lower_leg    \t| accuracy:   0.441441\tf1:   0.388158\t auc:   0.437122\n",
      "upper_leg    \t| accuracy:   0.552553\tf1:   0.639225\t auc:   0.525123\n",
      "upper_body   \t| accuracy:   0.543544\tf1:   0.597884\t auc:   0.535016\n",
      "arms         \t| accuracy:   0.441441\tf1:   0.384106\t auc:   0.437713\n",
      "head         \t| accuracy:   0.723724\tf1:   0.041667\t auc:   0.435325\n",
      "minor        \t| accuracy:   0.633634\tf1:   0.755020\t auc:   0.514554\n",
      "injury       \t| accuracy:   0.729730\tf1:   0.835766\t auc:   0.540024\n",
      "---------- Logistic Regression Model ----------\n",
      "foot         \t| accuracy:   0.552553\tf1:   0.620865\t auc:   0.540964\n",
      "lower_leg    \t| accuracy:   0.510511\tf1:   0.248848\t auc:   0.482261\n",
      "upper_leg    \t| accuracy:   0.609610\tf1:   0.757463\t auc:   0.500000\n",
      "upper_body   \t| accuracy:   0.555556\tf1:   0.702811\t auc:   0.502161\n",
      "arms         \t| accuracy:   0.447447\tf1:   0.386667\t auc:   0.442894\n",
      "head         \t| accuracy:   0.870871\tf1:   0.000000\t auc:   0.500000\n",
      "minor        \t| accuracy:   0.750751\tf1:   0.857633\t auc:   0.500000\n",
      "injury       \t| accuracy:   0.837838\tf1:   0.911765\t auc:   0.500000\n",
      "---------- KNN Model ----------\n",
      "foot         \t| accuracy:   0.465465\tf1:   0.536458\t auc:   0.455583\n",
      "lower_leg    \t| accuracy:   0.474474\tf1:   0.368231\t auc:   0.462830\n",
      "upper_leg    \t| accuracy:   0.495495\tf1:   0.639485\t auc:   0.428534\n",
      "upper_body   \t| accuracy:   0.444444\tf1:   0.554217\t auc:   0.420500\n",
      "arms         \t| accuracy:   0.408408\tf1:   0.303887\t auc:   0.394504\n",
      "head         \t| accuracy:   0.867868\tf1:   0.000000\t auc:   0.498276\n",
      "minor        \t| accuracy:   0.711712\tf1:   0.831579\t auc:   0.474000\n",
      "injury       \t| accuracy:   0.837838\tf1:   0.911765\t auc:   0.500000\n"
     ]
    }
   ],
   "source": [
    "rf_clf, rf_stats = random_forest_classifier(x_train2, y_train2, x_test2, y_test2, verbose=True)\n",
    "lr_clf, lr_stats = logistic_classifier(x_train2, y_train2, x_test2, y_test2, verbose=True)\n",
    "knn_clf, knn_stats = knn_classifier(x_train2, y_train2, x_test2, y_test2, verbose=True)"
   ]
  },
  {
   "cell_type": "code",
   "execution_count": 27,
   "id": "ede01f62",
   "metadata": {},
   "outputs": [],
   "source": [
    "# trying with no injury history\n",
    "data3 = pd.read_csv('../data/final_dataset1.csv')\n",
    "data3 = data3.fillna(0)\n",
    "y_cols = ['foot', 'lower_leg', 'upper_leg', 'upper_body', 'arms', 'head', 'minor']\n",
    "y_data3 = data3[y_cols]\n",
    "x_data3 = data3.drop(y_cols, axis=1)\n",
    "x_train3, x_test3, y_train3, y_test3 = train_test_split(x_data3, y_data3, test_size=0.25, random_state=3)"
   ]
  },
  {
   "cell_type": "code",
   "execution_count": 28,
   "id": "0361302a",
   "metadata": {},
   "outputs": [
    {
     "name": "stdout",
     "output_type": "stream",
     "text": [
      "---------- Random Forest Model ----------\n",
      "foot         \t| accuracy:   0.820189\tf1:   0.095238\t auc:   0.503862\n",
      "lower_leg    \t| accuracy:   0.864353\tf1:   0.085106\t auc:   0.505753\n",
      "upper_leg    \t| accuracy:   0.785489\tf1:   0.209302\t auc:   0.544539\n",
      "upper_body   \t| accuracy:   0.788644\tf1:   0.151899\t auc:   0.518338\n",
      "arms         \t| accuracy:   0.744479\tf1:   0.164948\t auc:   0.509784\n",
      "head         \t| accuracy:   0.971609\tf1:   0.000000\t auc:   0.493590\n",
      "minor        \t| accuracy:   0.615142\tf1:   0.460177\t auc:   0.580579\n",
      "---------- Logistic Regression Model ----------\n",
      "foot         \t| accuracy:   0.835962\tf1:   0.000000\t auc:   0.483577\n",
      "lower_leg    \t| accuracy:   0.908517\tf1:   0.064516\t auc:   0.511438\n",
      "upper_leg    \t| accuracy:   0.826498\tf1:   0.035088\t auc:   0.485021\n",
      "upper_body   \t| accuracy:   0.876972\tf1:   0.048780\t auc:   0.505420\n",
      "arms         \t| accuracy:   0.839117\tf1:   0.105263\t auc:   0.513896\n",
      "head         \t| accuracy:   0.984227\tf1:   0.000000\t auc:   0.500000\n",
      "minor        \t| accuracy:   0.652997\tf1:   0.375000\t auc:   0.572488\n",
      "---------- KNN Model ----------\n",
      "foot         \t| accuracy:   0.864353\tf1:   0.044444\t auc:   0.509803\n",
      "lower_leg    \t| accuracy:   0.921136\tf1:   0.000000\t auc:   0.500000\n",
      "upper_leg    \t| accuracy:   0.861199\tf1:   0.043478\t auc:   0.504949\n",
      "upper_body   \t| accuracy:   0.889590\tf1:   0.054054\t auc:   0.512513\n",
      "arms         \t| accuracy:   0.864353\tf1:   0.122449\t auc:   0.528442\n",
      "head         \t| accuracy:   0.984227\tf1:   0.000000\t auc:   0.500000\n",
      "minor        \t| accuracy:   0.643533\tf1:   0.420513\t auc:   0.580926\n"
     ]
    }
   ],
   "source": [
    "rf_clf, rf_stats = random_forest_classifier(x_train3, y_train3, x_test3, y_test3, verbose=True)\n",
    "lr_clf, lr_stats = logistic_classifier(x_train3, y_train3, x_test3, y_test3, verbose=True)\n",
    "knn_clf, knn_stats = knn_classifier(x_train3, y_train3, x_test3, y_test3, verbose=True)"
   ]
  },
  {
   "cell_type": "code",
   "execution_count": 95,
   "id": "d7fab925",
   "metadata": {},
   "outputs": [],
   "source": [
    "# trying my new strat (counts of injuries in the history)\n",
    "data4 = pd.read_csv('../data/new_strat.csv')\n",
    "data4 = data4.drop(columns=['Unnamed: 0'])\n",
    "y_cols = ['foot', 'lower_leg', 'upper_leg', 'upper_body', 'arms', 'head', 'minor', 'injury']\n",
    "y_data4 = data4[y_cols]\n",
    "x_data4 = data4.drop(y_cols, axis=1)\n",
    "x_train4, x_test4, y_train4, y_test4 = train_test_split(x_data4, y_data4, test_size=0.25, random_state=3)\n"
   ]
  },
  {
   "cell_type": "code",
   "execution_count": 107,
   "id": "6cbe9031",
   "metadata": {},
   "outputs": [
    {
     "name": "stdout",
     "output_type": "stream",
     "text": [
      "---------- Random Forest Model ----------\n",
      "foot         \t| accuracy:   0.963964\tf1:   0.940984\t auc:   0.955703\n",
      "lower_leg    \t| accuracy:   0.968969\tf1:   0.926505\t auc:   0.947744\n",
      "upper_leg    \t| accuracy:   0.967167\tf1:   0.952874\t auc:   0.963965\n",
      "upper_body   \t| accuracy:   0.969369\tf1:   0.953510\t auc:   0.963988\n",
      "arms         \t| accuracy:   0.968569\tf1:   0.936257\t auc:   0.950846\n",
      "head         \t| accuracy:   0.985185\tf1:   0.918142\t auc:   0.941057\n",
      "minor        \t| accuracy:   0.876877\tf1:   0.871473\t auc:   0.876890\n",
      "injury       \t| accuracy:   0.949149\tf1:   0.958726\t auc:   0.950356\n",
      "---------- Logistic Regression Model ----------\n",
      "foot         \t| accuracy:   0.730330\tf1:   0.382393\t auc:   0.602785\n",
      "lower_leg    \t| accuracy:   0.788789\tf1:   0.057194\t auc:   0.513127\n",
      "upper_leg    \t| accuracy:   0.651652\tf1:   0.153696\t auc:   0.521012\n",
      "upper_body   \t| accuracy:   0.726126\tf1:   0.469356\t auc:   0.635175\n",
      "arms         \t| accuracy:   0.744745\tf1:   0.061810\t auc:   0.509036\n",
      "head         \t| accuracy:   0.922122\tf1:   0.352745\t auc:   0.610266\n",
      "minor        \t| accuracy:   0.663063\tf1:   0.628231\t auc:   0.660079\n",
      "injury       \t| accuracy:   0.669269\tf1:   0.768951\t auc:   0.598945\n",
      "---------- KNN Model ----------\n",
      "foot         \t| accuracy:   0.893293\tf1:   0.817278\t auc:   0.860701\n",
      "lower_leg    \t| accuracy:   0.906707\tf1:   0.754737\t auc:   0.820087\n",
      "upper_leg    \t| accuracy:   0.878478\tf1:   0.825424\t auc:   0.866064\n",
      "upper_body   \t| accuracy:   0.881682\tf1:   0.823318\t auc:   0.869156\n",
      "arms         \t| accuracy:   0.909109\tf1:   0.814542\t auc:   0.870066\n",
      "head         \t| accuracy:   0.962563\tf1:   0.786773\t auc:   0.861521\n",
      "minor        \t| accuracy:   0.869069\tf1:   0.866422\t auc:   0.870138\n",
      "injury       \t| accuracy:   0.871471\tf1:   0.896049\t auc:   0.866363\n"
     ]
    }
   ],
   "source": [
    "rf_clf, rf_stats = random_forest_classifier(x_train4, y_train4, x_test4, y_test4, verbose=True)\n",
    "lr_clf, lr_stats = logistic_classifier(x_train4, y_train4, x_test4, y_test4, verbose=True)\n",
    "knn_clf, knn_stats = knn_classifier(x_train4, y_train4, x_test4, y_test4, verbose=True)"
   ]
  },
  {
   "cell_type": "code",
   "execution_count": 108,
   "id": "9b18823f",
   "metadata": {},
   "outputs": [],
   "source": [
    "save_classifier(rf_clf, \"../models/numbered_history_rf\")"
   ]
  },
  {
   "cell_type": "code",
   "execution_count": 116,
   "id": "56c42bfb",
   "metadata": {},
   "outputs": [
    {
     "name": "stdout",
     "output_type": "stream",
     "text": [
      "RandomForestClassifier(bootstrap=True, ccp_alpha=0.0, class_weight=None,\n",
      "                       criterion='gini', max_depth=None, max_features='auto',\n",
      "                       max_leaf_nodes=None, max_samples=None,\n",
      "                       min_impurity_decrease=0.0, min_impurity_split=None,\n",
      "                       min_samples_leaf=1, min_samples_split=2,\n",
      "                       min_weight_fraction_leaf=0.0, n_estimators=31, n_jobs=12,\n",
      "                       oob_score=False, random_state=None, verbose=0,\n",
      "                       warm_start=False)\n",
      "[[ 28. 169.  63.   0.   0.   1.   0.   0.   0.   0.   0.   0.   0.   0.\n",
      "    0.   0.   0.   0.   0.   0.   1.   0.]] float64\n",
      "[1.]\n"
     ]
    }
   ],
   "source": [
    "my_clf = load_label_classifier(\"../models/numbered_history_rf\", 'injury')\n",
    "print(my_clf)\n",
    "print(x_test4.iloc[0].to_numpy().reshape((1,-1)), x_test4.iloc[0].to_numpy().reshape((1,-1)).dtype)\n",
    "out = classifier_predict(my_clf, x_test4.iloc[0].to_numpy().reshape((1,-1)))\n",
    "print(out)\n",
    "# out = classifier_predict_field(my_clf, 'foot', x_test4.iloc[0].to_numpy().reshape((1,-1)))\n",
    "# print(out)"
   ]
  },
  {
   "cell_type": "code",
   "execution_count": 130,
   "id": "a7907fb7",
   "metadata": {},
   "outputs": [
    {
     "name": "stdout",
     "output_type": "stream",
     "text": [
      "params: {'n_estimators': 1}\tacc: 0.9301801801801802\tf1: 0.8764532385323078\tauc: 0.9040787081449783\n",
      "params: {'n_estimators': 11}\tacc: 0.9536786786786788\tf1: 0.9285408526657065\tauc: 0.9404172508970666\n",
      "params: {'n_estimators': 21}\tacc: 0.9552802802802802\tf1: 0.9313156781005593\tauc: 0.9422824732146599\n",
      "params: {'n_estimators': 31}\tacc: 0.9555055055055056\tf1: 0.9312417330619667\tauc: 0.9420295523105695\n",
      "params: {'n_estimators': 41}\tacc: 0.9564064064064064\tf1: 0.9329490615422648\tauc: 0.9432750425266119\n",
      "params: {'n_estimators': 51}\tacc: 0.955880880880881\tf1: 0.9319295844460371\tauc: 0.9424753336797849\n",
      "params: {'n_estimators': 61}\tacc: 0.956006006006006\tf1: 0.9320339352504233\tauc: 0.9430879415146577\n",
      "params: {'n_estimators': 71}\tacc: 0.9555555555555555\tf1: 0.9311540412770823\tauc: 0.9421461868319518\n",
      "params: {'n_estimators': 81}\tacc: 0.9567067067067067\tf1: 0.9329686761296578\tauc: 0.9438150453723774\n",
      "params: {'n_estimators': 91}\tacc: 0.9561811811811811\tf1: 0.9332197348176179\tauc: 0.9433153797631697\n"
     ]
    }
   ],
   "source": [
    "def my_cv(classifier_fn, params, data):\n",
    "    for p in params:\n",
    "        clf, stats = classifier_fn(data['xtrain'], data['ytrain'], data['xtest'], data['ytest'], params=p, verbose=False)\n",
    "        mean_acc = sum([stats[k]['accuracy'] for k in stats.keys()])/len(stats.keys())\n",
    "        mean_f1 = sum([stats[k]['f1'] for k in stats.keys()])/len(stats.keys())\n",
    "        mean_auc = sum([stats[k]['auc'] for k in stats.keys()])/len(stats.keys())\n",
    "        print(\"params: {}\\tacc: {}\\tf1: {}\\tauc: {}\".format(p, mean_acc, mean_f1, mean_auc))\n",
    " "
   ]
  },
  {
   "cell_type": "code",
   "execution_count": 131,
   "id": "eaf2ffe4",
   "metadata": {},
   "outputs": [
    {
     "name": "stdout",
     "output_type": "stream",
     "text": [
      "Random Forest\n",
      "params: {'n_estimators': 1}\tacc: 0.929004004004004\tf1: 0.8809527175647099\tauc: 0.9065776734898292\n",
      "params: {'n_estimators': 11}\tacc: 0.9525775775775776\tf1: 0.924895296391141\tauc: 0.9380161974929353\n",
      "params: {'n_estimators': 21}\tacc: 0.9548798798798799\tf1: 0.9301393127351308\tauc: 0.941957275587916\n",
      "params: {'n_estimators': 31}\tacc: 0.9556056056056056\tf1: 0.9310979357970022\tauc: 0.941958103661168\n",
      "params: {'n_estimators': 41}\tacc: 0.9554054054054053\tf1: 0.9315646150370753\tauc: 0.9424638077537845\n",
      "params: {'n_estimators': 51}\tacc: 0.9558808808808809\tf1: 0.9324792108744793\tauc: 0.9429778057264926\n",
      "params: {'n_estimators': 61}\tacc: 0.956006006006006\tf1: 0.9319641856206518\tauc: 0.9427750388872451\n",
      "params: {'n_estimators': 71}\tacc: 0.9566816816816817\tf1: 0.9335141041888567\tauc: 0.9439795909420018\n",
      "params: {'n_estimators': 81}\tacc: 0.9568568568568568\tf1: 0.9347732434219717\tauc: 0.9444343160996009\n",
      "params: {'n_estimators': 91}\tacc: 0.9558558558558559\tf1: 0.9324922479271126\tauc: 0.9427413115030325\n"
     ]
    }
   ],
   "source": [
    "print(\"Random Forest\")\n",
    "param = [{'n_estimators': e} for e in range(1,101,10)]\n",
    "my_cv(random_forest_classifier, param, {'xtrain':x_train4, 'ytrain':y_train4, 'xtest':x_test4, 'ytest':y_test4})"
   ]
  },
  {
   "cell_type": "code",
   "execution_count": 133,
   "id": "13bb1020",
   "metadata": {},
   "outputs": [
    {
     "name": "stdout",
     "output_type": "stream",
     "text": [
      "Logistic Regression\n",
      "params: {'max_iter': 500}\tacc: 0.737012012012012\tf1: 0.3592971440984902\tauc: 0.5813029785489201\n",
      "params: {'max_iter': 1000}\tacc: 0.737012012012012\tf1: 0.3592971440984902\tauc: 0.5813029785489201\n",
      "params: {'max_iter': 1500}\tacc: 0.737012012012012\tf1: 0.3592971440984902\tauc: 0.5813029785489201\n",
      "params: {'max_iter': 2000}\tacc: 0.737012012012012\tf1: 0.3592971440984902\tauc: 0.5813029785489201\n",
      "params: {'max_iter': 2500}\tacc: 0.737012012012012\tf1: 0.3592971440984902\tauc: 0.5813029785489201\n",
      "params: {'max_iter': 3000}\tacc: 0.737012012012012\tf1: 0.3592971440984902\tauc: 0.5813029785489201\n",
      "params: {'max_iter': 3500}\tacc: 0.737012012012012\tf1: 0.3592971440984902\tauc: 0.5813029785489201\n",
      "params: {'max_iter': 4000}\tacc: 0.737012012012012\tf1: 0.3592971440984902\tauc: 0.5813029785489201\n",
      "params: {'max_iter': 4500}\tacc: 0.737012012012012\tf1: 0.3592971440984902\tauc: 0.5813029785489201\n",
      "params: {'max_iter': 5000}\tacc: 0.737012012012012\tf1: 0.3592971440984902\tauc: 0.5813029785489201\n"
     ]
    }
   ],
   "source": [
    "print(\"Logistic Regression\")\n",
    "param = [{'max_iter': e} for e in range(500,5001,500)]\n",
    "my_cv(logistic_classifier, param, {'xtrain':x_train4, 'ytrain':y_train4, 'xtest':x_test4, 'ytest':y_test4})"
   ]
  },
  {
   "cell_type": "code",
   "execution_count": 134,
   "id": "f4c0b016",
   "metadata": {},
   "outputs": [
    {
     "name": "stdout",
     "output_type": "stream",
     "text": [
      "Knn\n",
      "params: {'n_neighbors': 1}\tacc: 0.9493243243243242\tf1: 0.9281352658629635\tauc: 0.9374494315796731\n",
      "params: {'n_neighbors': 6}\tacc: 0.9023773773773774\tf1: 0.8271193233913913\tauc: 0.8580776632388594\n",
      "params: {'n_neighbors': 11}\tacc: 0.8668418418418419\tf1: 0.759693202630126\tauc: 0.8118395882811436\n",
      "params: {'n_neighbors': 16}\tacc: 0.8356606606606607\tf1: 0.6704916013048536\tauc: 0.7495289958118946\n",
      "params: {'n_neighbors': 21}\tacc: 0.8071821821821822\tf1: 0.6178324333379189\tauc: 0.7131673058809669\n",
      "params: {'n_neighbors': 26}\tacc: 0.7918418418418418\tf1: 0.5595632124229357\tauc: 0.6799586457287361\n"
     ]
    }
   ],
   "source": [
    "print(\"Knn\")\n",
    "param = [{'n_neighbors': e} for e in range(1,31,5)]\n",
    "my_cv(knn_classifier, param, {'xtrain':x_train4, 'ytrain':y_train4, 'xtest':x_test4, 'ytest':y_test4})"
   ]
  },
  {
   "cell_type": "code",
   "execution_count": null,
   "id": "71d65af0",
   "metadata": {},
   "outputs": [],
   "source": []
  }
 ],
 "metadata": {
  "kernelspec": {
   "display_name": "Python 3 (ipykernel)",
   "language": "python",
   "name": "python3"
  },
  "language_info": {
   "codemirror_mode": {
    "name": "ipython",
    "version": 3
   },
   "file_extension": ".py",
   "mimetype": "text/x-python",
   "name": "python",
   "nbconvert_exporter": "python",
   "pygments_lexer": "ipython3",
   "version": "3.7.11"
  }
 },
 "nbformat": 4,
 "nbformat_minor": 5
}
