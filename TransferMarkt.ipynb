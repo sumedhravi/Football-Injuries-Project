{
 "cells": [
  {
   "cell_type": "code",
   "execution_count": 1,
   "metadata": {},
   "outputs": [],
   "source": [
    "import pandas as pd\n",
    "from bs4 import BeautifulSoup\n",
    "import requests\n",
    "import re"
   ]
  },
  {
   "cell_type": "code",
   "execution_count": 2,
   "metadata": {},
   "outputs": [],
   "source": [
    "base_url=\"https://www.transfermarkt.co.uk\"\n",
    "headers = {'User-Agent': \n",
    "           'Mozilla/5.0 (X11; Linux x86_64) AppleWebKit/537.36 (KHTML, like Gecko) Chrome/47.0.2526.106 Safari/537.36'}"
   ]
  },
  {
   "cell_type": "code",
   "execution_count": 3,
   "metadata": {},
   "outputs": [],
   "source": [
    "def numconvert(num):\n",
    "    num=num[1:]\n",
    "    if len(num)>1:\n",
    "        if num[-1]=='m':\n",
    "            return float(num[:-1])*1000000\n",
    "        elif num[-1]!='m':\n",
    "            return float(num[:-3])*1000\n",
    "    else:\n",
    "        print(num)"
   ]
  },
  {
   "cell_type": "code",
   "execution_count": 4,
   "metadata": {},
   "outputs": [],
   "source": [
    "for years in [2016,2017,2018]:\n",
    "    \n",
    "    page = 'https://www.transfermarkt.co.uk/premier-league/startseite/wettbewerb/GB1/plus/?saison_id='+str(years)\n",
    "    tree = requests.get(page, headers = headers)\n",
    "    soup = BeautifulSoup(tree.content, 'html.parser')\n",
    "\n",
    "    teams = soup.find(\"table\", class_=\"items\").find(\"tbody\")\n",
    "    link=teams.find_all(\"a\", class_=\"vereinprofil_tooltip\")\n",
    "    links=link[::3]\n",
    "\n",
    "    teamlist=[]\n",
    "    linklist=[]\n",
    "\n",
    "    for i in range(0,20):\n",
    "        teamlist.append(re.search(\"\\/(.*?)\\/\",links[i][\"href\"])[1])\n",
    "        linklist.append(base_url+links[i][\"href\"])\n",
    "\n",
    "    output=pd.DataFrame()\n",
    "\n",
    "    for j in range(0,20):\n",
    "        soup1=BeautifulSoup(requests.get(linklist[j], headers = headers).content, 'html.parser')\n",
    "        playertable=soup1.find(\"table\", class_=\"items\")\n",
    "        marketvalues=[numconvert(x.text.replace(u'\\xa0', u'')) if x.text.replace(u'\\xa0', u'')!='' else 0 for x in playertable.find_all(class_=\"rechts hauptlink\")]\n",
    "        rows = playertable.find_all('td',class_=\"posrela\")\n",
    "        players=[x.find(class_=\"spielprofil_tooltip\").text for x in rows]\n",
    "        positions=[x.find_all(\"td\")[-1].text for x in rows]\n",
    "        team=[teamlist[j]]*len(players)\n",
    "        data=pd.DataFrame(list(zip(players,marketvalues,positions,team)))\n",
    "        output=output.append(data)\n",
    "    \n",
    "    output.to_csv(r'playerdata'+str(years+1)+'.csv')"
   ]
  },
  {
   "cell_type": "code",
   "execution_count": null,
   "metadata": {},
   "outputs": [],
   "source": []
  }
 ],
 "metadata": {
  "kernelspec": {
   "display_name": "Python 3",
   "language": "python",
   "name": "python3"
  },
  "language_info": {
   "codemirror_mode": {
    "name": "ipython",
    "version": 3
   },
   "file_extension": ".py",
   "mimetype": "text/x-python",
   "name": "python",
   "nbconvert_exporter": "python",
   "pygments_lexer": "ipython3",
   "version": "3.6.13"
  }
 },
 "nbformat": 4,
 "nbformat_minor": 2
}
