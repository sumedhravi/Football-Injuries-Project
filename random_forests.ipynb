{
 "cells": [
  {
   "cell_type": "code",
   "execution_count": 1,
   "metadata": {},
   "outputs": [],
   "source": [
    "import pandas as pd\n",
    "from sklearn.model_selection import train_test_split\n",
    "from sklearn.ensemble import RandomForestClassifier\n",
    "from sklearn import preprocessing\n",
    "from sklearn.metrics import accuracy_score, f1_score, roc_auc_score"
   ]
  },
  {
   "cell_type": "code",
   "execution_count": 2,
   "metadata": {},
   "outputs": [],
   "source": [
    "data = pd.read_csv('final_dataset.csv')"
   ]
  },
  {
   "cell_type": "code",
   "execution_count": 3,
   "metadata": {},
   "outputs": [],
   "source": [
    "data = data.drop(['Unnamed: 0'], axis=1)"
   ]
  },
  {
   "cell_type": "code",
   "execution_count": 4,
   "metadata": {},
   "outputs": [
    {
     "data": {
      "text/html": [
       "<div>\n",
       "<style scoped>\n",
       "    .dataframe tbody tr th:only-of-type {\n",
       "        vertical-align: middle;\n",
       "    }\n",
       "\n",
       "    .dataframe tbody tr th {\n",
       "        vertical-align: top;\n",
       "    }\n",
       "\n",
       "    .dataframe thead th {\n",
       "        text-align: right;\n",
       "    }\n",
       "</style>\n",
       "<table border=\"1\" class=\"dataframe\">\n",
       "  <thead>\n",
       "    <tr style=\"text-align: right;\">\n",
       "      <th></th>\n",
       "      <th>Age</th>\n",
       "      <th>Height</th>\n",
       "      <th>Weight</th>\n",
       "      <th>Centre-Back</th>\n",
       "      <th>Right Winger</th>\n",
       "      <th>Left Winger</th>\n",
       "      <th>Goalkeeper</th>\n",
       "      <th>Central Midfield</th>\n",
       "      <th>Right-Back</th>\n",
       "      <th>Left-Back</th>\n",
       "      <th>...</th>\n",
       "      <th>isMedium.14</th>\n",
       "      <th>isLong.14</th>\n",
       "      <th>foot</th>\n",
       "      <th>lower_leg</th>\n",
       "      <th>upper_leg</th>\n",
       "      <th>upper_body</th>\n",
       "      <th>amrs</th>\n",
       "      <th>head</th>\n",
       "      <th>minor</th>\n",
       "      <th>injury</th>\n",
       "    </tr>\n",
       "  </thead>\n",
       "  <tbody>\n",
       "    <tr>\n",
       "      <th>0</th>\n",
       "      <td>30.0</td>\n",
       "      <td>193</td>\n",
       "      <td>87</td>\n",
       "      <td>1</td>\n",
       "      <td>0</td>\n",
       "      <td>0</td>\n",
       "      <td>0</td>\n",
       "      <td>0</td>\n",
       "      <td>0</td>\n",
       "      <td>0</td>\n",
       "      <td>...</td>\n",
       "      <td>0</td>\n",
       "      <td>0</td>\n",
       "      <td>1</td>\n",
       "      <td>0</td>\n",
       "      <td>1</td>\n",
       "      <td>1</td>\n",
       "      <td>1</td>\n",
       "      <td>0</td>\n",
       "      <td>1</td>\n",
       "      <td>1</td>\n",
       "    </tr>\n",
       "    <tr>\n",
       "      <th>1</th>\n",
       "      <td>29.0</td>\n",
       "      <td>175</td>\n",
       "      <td>71</td>\n",
       "      <td>0</td>\n",
       "      <td>1</td>\n",
       "      <td>0</td>\n",
       "      <td>0</td>\n",
       "      <td>0</td>\n",
       "      <td>0</td>\n",
       "      <td>0</td>\n",
       "      <td>...</td>\n",
       "      <td>0</td>\n",
       "      <td>0</td>\n",
       "      <td>1</td>\n",
       "      <td>1</td>\n",
       "      <td>1</td>\n",
       "      <td>1</td>\n",
       "      <td>0</td>\n",
       "      <td>1</td>\n",
       "      <td>1</td>\n",
       "      <td>1</td>\n",
       "    </tr>\n",
       "    <tr>\n",
       "      <th>2</th>\n",
       "      <td>29.0</td>\n",
       "      <td>175</td>\n",
       "      <td>69</td>\n",
       "      <td>0</td>\n",
       "      <td>0</td>\n",
       "      <td>1</td>\n",
       "      <td>0</td>\n",
       "      <td>0</td>\n",
       "      <td>0</td>\n",
       "      <td>0</td>\n",
       "      <td>...</td>\n",
       "      <td>0</td>\n",
       "      <td>0</td>\n",
       "      <td>1</td>\n",
       "      <td>0</td>\n",
       "      <td>1</td>\n",
       "      <td>0</td>\n",
       "      <td>1</td>\n",
       "      <td>1</td>\n",
       "      <td>1</td>\n",
       "      <td>1</td>\n",
       "    </tr>\n",
       "    <tr>\n",
       "      <th>3</th>\n",
       "      <td>29.0</td>\n",
       "      <td>193</td>\n",
       "      <td>91</td>\n",
       "      <td>0</td>\n",
       "      <td>0</td>\n",
       "      <td>0</td>\n",
       "      <td>1</td>\n",
       "      <td>0</td>\n",
       "      <td>0</td>\n",
       "      <td>0</td>\n",
       "      <td>...</td>\n",
       "      <td>0</td>\n",
       "      <td>0</td>\n",
       "      <td>1</td>\n",
       "      <td>1</td>\n",
       "      <td>1</td>\n",
       "      <td>1</td>\n",
       "      <td>0</td>\n",
       "      <td>0</td>\n",
       "      <td>1</td>\n",
       "      <td>1</td>\n",
       "    </tr>\n",
       "    <tr>\n",
       "      <th>4</th>\n",
       "      <td>31.0</td>\n",
       "      <td>182</td>\n",
       "      <td>67</td>\n",
       "      <td>0</td>\n",
       "      <td>0</td>\n",
       "      <td>0</td>\n",
       "      <td>0</td>\n",
       "      <td>1</td>\n",
       "      <td>0</td>\n",
       "      <td>0</td>\n",
       "      <td>...</td>\n",
       "      <td>0</td>\n",
       "      <td>0</td>\n",
       "      <td>0</td>\n",
       "      <td>0</td>\n",
       "      <td>0</td>\n",
       "      <td>0</td>\n",
       "      <td>0</td>\n",
       "      <td>0</td>\n",
       "      <td>1</td>\n",
       "      <td>1</td>\n",
       "    </tr>\n",
       "    <tr>\n",
       "      <th>...</th>\n",
       "      <td>...</td>\n",
       "      <td>...</td>\n",
       "      <td>...</td>\n",
       "      <td>...</td>\n",
       "      <td>...</td>\n",
       "      <td>...</td>\n",
       "      <td>...</td>\n",
       "      <td>...</td>\n",
       "      <td>...</td>\n",
       "      <td>...</td>\n",
       "      <td>...</td>\n",
       "      <td>...</td>\n",
       "      <td>...</td>\n",
       "      <td>...</td>\n",
       "      <td>...</td>\n",
       "      <td>...</td>\n",
       "      <td>...</td>\n",
       "      <td>...</td>\n",
       "      <td>...</td>\n",
       "      <td>...</td>\n",
       "      <td>...</td>\n",
       "    </tr>\n",
       "    <tr>\n",
       "      <th>1328</th>\n",
       "      <td>16.0</td>\n",
       "      <td>195</td>\n",
       "      <td>96</td>\n",
       "      <td>1</td>\n",
       "      <td>0</td>\n",
       "      <td>0</td>\n",
       "      <td>0</td>\n",
       "      <td>0</td>\n",
       "      <td>0</td>\n",
       "      <td>0</td>\n",
       "      <td>...</td>\n",
       "      <td>0</td>\n",
       "      <td>0</td>\n",
       "      <td>0</td>\n",
       "      <td>0</td>\n",
       "      <td>0</td>\n",
       "      <td>0</td>\n",
       "      <td>0</td>\n",
       "      <td>0</td>\n",
       "      <td>0</td>\n",
       "      <td>0</td>\n",
       "    </tr>\n",
       "    <tr>\n",
       "      <th>1329</th>\n",
       "      <td>17.0</td>\n",
       "      <td>173</td>\n",
       "      <td>61</td>\n",
       "      <td>0</td>\n",
       "      <td>0</td>\n",
       "      <td>0</td>\n",
       "      <td>0</td>\n",
       "      <td>0</td>\n",
       "      <td>0</td>\n",
       "      <td>0</td>\n",
       "      <td>...</td>\n",
       "      <td>0</td>\n",
       "      <td>0</td>\n",
       "      <td>0</td>\n",
       "      <td>0</td>\n",
       "      <td>0</td>\n",
       "      <td>0</td>\n",
       "      <td>0</td>\n",
       "      <td>0</td>\n",
       "      <td>1</td>\n",
       "      <td>1</td>\n",
       "    </tr>\n",
       "    <tr>\n",
       "      <th>1330</th>\n",
       "      <td>29.0</td>\n",
       "      <td>182</td>\n",
       "      <td>75</td>\n",
       "      <td>0</td>\n",
       "      <td>0</td>\n",
       "      <td>0</td>\n",
       "      <td>0</td>\n",
       "      <td>0</td>\n",
       "      <td>0</td>\n",
       "      <td>1</td>\n",
       "      <td>...</td>\n",
       "      <td>0</td>\n",
       "      <td>0</td>\n",
       "      <td>1</td>\n",
       "      <td>1</td>\n",
       "      <td>1</td>\n",
       "      <td>1</td>\n",
       "      <td>1</td>\n",
       "      <td>1</td>\n",
       "      <td>1</td>\n",
       "      <td>1</td>\n",
       "    </tr>\n",
       "    <tr>\n",
       "      <th>1331</th>\n",
       "      <td>18.0</td>\n",
       "      <td>178</td>\n",
       "      <td>68</td>\n",
       "      <td>0</td>\n",
       "      <td>0</td>\n",
       "      <td>0</td>\n",
       "      <td>0</td>\n",
       "      <td>0</td>\n",
       "      <td>0</td>\n",
       "      <td>0</td>\n",
       "      <td>...</td>\n",
       "      <td>0</td>\n",
       "      <td>0</td>\n",
       "      <td>0</td>\n",
       "      <td>0</td>\n",
       "      <td>0</td>\n",
       "      <td>1</td>\n",
       "      <td>0</td>\n",
       "      <td>0</td>\n",
       "      <td>1</td>\n",
       "      <td>1</td>\n",
       "    </tr>\n",
       "    <tr>\n",
       "      <th>1332</th>\n",
       "      <td>28.0</td>\n",
       "      <td>194</td>\n",
       "      <td>90</td>\n",
       "      <td>0</td>\n",
       "      <td>0</td>\n",
       "      <td>0</td>\n",
       "      <td>1</td>\n",
       "      <td>0</td>\n",
       "      <td>0</td>\n",
       "      <td>0</td>\n",
       "      <td>...</td>\n",
       "      <td>0</td>\n",
       "      <td>0</td>\n",
       "      <td>0</td>\n",
       "      <td>0</td>\n",
       "      <td>1</td>\n",
       "      <td>0</td>\n",
       "      <td>0</td>\n",
       "      <td>0</td>\n",
       "      <td>0</td>\n",
       "      <td>1</td>\n",
       "    </tr>\n",
       "  </tbody>\n",
       "</table>\n",
       "<p>1333 rows × 189 columns</p>\n",
       "</div>"
      ],
      "text/plain": [
       "       Age  Height  Weight  Centre-Back  Right Winger  Left Winger  \\\n",
       "0     30.0     193      87            1             0            0   \n",
       "1     29.0     175      71            0             1            0   \n",
       "2     29.0     175      69            0             0            1   \n",
       "3     29.0     193      91            0             0            0   \n",
       "4     31.0     182      67            0             0            0   \n",
       "...    ...     ...     ...          ...           ...          ...   \n",
       "1328  16.0     195      96            1             0            0   \n",
       "1329  17.0     173      61            0             0            0   \n",
       "1330  29.0     182      75            0             0            0   \n",
       "1331  18.0     178      68            0             0            0   \n",
       "1332  28.0     194      90            0             0            0   \n",
       "\n",
       "      Goalkeeper  Central Midfield  Right-Back  Left-Back  ...  isMedium.14  \\\n",
       "0              0                 0           0          0  ...            0   \n",
       "1              0                 0           0          0  ...            0   \n",
       "2              0                 0           0          0  ...            0   \n",
       "3              1                 0           0          0  ...            0   \n",
       "4              0                 1           0          0  ...            0   \n",
       "...          ...               ...         ...        ...  ...          ...   \n",
       "1328           0                 0           0          0  ...            0   \n",
       "1329           0                 0           0          0  ...            0   \n",
       "1330           0                 0           0          1  ...            0   \n",
       "1331           0                 0           0          0  ...            0   \n",
       "1332           1                 0           0          0  ...            0   \n",
       "\n",
       "      isLong.14  foot  lower_leg  upper_leg  upper_body  amrs  head  minor  \\\n",
       "0             0     1          0          1           1     1     0      1   \n",
       "1             0     1          1          1           1     0     1      1   \n",
       "2             0     1          0          1           0     1     1      1   \n",
       "3             0     1          1          1           1     0     0      1   \n",
       "4             0     0          0          0           0     0     0      1   \n",
       "...         ...   ...        ...        ...         ...   ...   ...    ...   \n",
       "1328          0     0          0          0           0     0     0      0   \n",
       "1329          0     0          0          0           0     0     0      1   \n",
       "1330          0     1          1          1           1     1     1      1   \n",
       "1331          0     0          0          0           1     0     0      1   \n",
       "1332          0     0          0          1           0     0     0      0   \n",
       "\n",
       "      injury  \n",
       "0          1  \n",
       "1          1  \n",
       "2          1  \n",
       "3          1  \n",
       "4          1  \n",
       "...      ...  \n",
       "1328       0  \n",
       "1329       1  \n",
       "1330       1  \n",
       "1331       1  \n",
       "1332       1  \n",
       "\n",
       "[1333 rows x 189 columns]"
      ]
     },
     "execution_count": 4,
     "metadata": {},
     "output_type": "execute_result"
    }
   ],
   "source": [
    "data"
   ]
  },
  {
   "cell_type": "code",
   "execution_count": 5,
   "metadata": {},
   "outputs": [],
   "source": [
    "data = data.dropna()"
   ]
  },
  {
   "cell_type": "code",
   "execution_count": 6,
   "metadata": {},
   "outputs": [],
   "source": [
    "y_data_foot = data['foot']\n",
    "y_data_lower_leg = data['lower_leg']\n",
    "y_data_upper_leg = data['upper_leg']\n",
    "y_data_upper_body = data['upper_body']\n",
    "y_data_arms = data['amrs']\n",
    "y_data_head = data['head']\n",
    "y_data_minor = data['minor']\n",
    "y_data_injury = data['injury']"
   ]
  },
  {
   "cell_type": "code",
   "execution_count": 7,
   "metadata": {},
   "outputs": [],
   "source": [
    "y_cols = ['foot', 'lower_leg', 'upper_leg', 'upper_body', 'amrs', 'head', 'minor', 'injury']\n",
    "x_data = data.drop(y_cols, axis=1)"
   ]
  },
  {
   "cell_type": "code",
   "execution_count": 37,
   "metadata": {},
   "outputs": [],
   "source": [
    "def foot():\n",
    "    x_train, x_test, y_train, y_test = train_test_split(x_data, y_data_foot, test_size=0.25, random_state=3)\n",
    "    rf_foot = RandomForestClassifier(n_estimators=3, n_jobs=-1, verbose=10).fit(x_train, y_train)\n",
    "    foot_predictions = rf_foot.predict(x_test)\n",
    "    foot_score = accuracy_score(y_test, foot_predictions)\n",
    "    foot_f1_score = f1_score(y_test, foot_predictions)\n",
    "    foot_auc = roc_auc_score(y_test, foot_predictions)\n",
    "    print(foot_score, foot_f1_score, foot_auc)"
   ]
  },
  {
   "cell_type": "code",
   "execution_count": 43,
   "metadata": {},
   "outputs": [],
   "source": [
    "def lower_leg():\n",
    "    x_train, x_test, y_train, y_test = train_test_split(x_data, y_data_lower_leg, test_size=0.25, random_state=3)\n",
    "    rf_lower_leg = RandomForestClassifier(n_estimators=1, n_jobs=12, verbose=10).fit(x_train, y_train)\n",
    "    lower_leg_predictions = rf_lower_leg.predict(x_test)\n",
    "    lower_leg_score = accuracy_score(y_test, lower_leg_predictions)\n",
    "    lower_leg_f1_score = f1_score(y_test, lower_leg_predictions)\n",
    "    lower_leg_auc = roc_auc_score(y_test, lower_leg_predictions)\n",
    "    print(lower_leg_score, lower_leg_f1_score, lower_leg_auc)"
   ]
  },
  {
   "cell_type": "code",
   "execution_count": 45,
   "metadata": {},
   "outputs": [],
   "source": [
    "def upper_leg():\n",
    "    x_train, x_test, y_train, y_test = train_test_split(x_data, y_data_upper_leg, test_size=0.25, random_state=3)\n",
    "    rf_upper_leg = RandomForestClassifier(n_estimators=3, n_jobs=-1, verbose=10).fit(x_train, y_train)\n",
    "    upper_leg_predictions = rf_upper_leg.predict(x_test)\n",
    "    upper_leg_score = accuracy_score(y_test, upper_leg_predictions)\n",
    "    upper_leg_f1_score = f1_score(y_test, upper_leg_predictions)\n",
    "    upper_leg_auc = roc_auc_score(y_test, upper_leg_predictions)\n",
    "    print(upper_leg_score, upper_leg_f1_score, upper_leg_auc)"
   ]
  },
  {
   "cell_type": "code",
   "execution_count": 24,
   "metadata": {},
   "outputs": [],
   "source": [
    "def upper_body():\n",
    "    x_train, x_test, y_train, y_test = train_test_split(x_data, y_data_upper_body, test_size=0.25, random_state=3)\n",
    "    rf_upper_body = RandomForestClassifier(n_estimators=7, n_jobs=-1, verbose=10).fit(x_train, y_train)\n",
    "    upper_body_predictions = rf_upper_body.predict(x_test)\n",
    "    upper_body_score = accuracy_score(y_test, upper_body_predictions)\n",
    "    upper_body_f1_score = f1_score(y_test, upper_body_predictions)\n",
    "    upper_body_auc = roc_auc_score(y_test, upper_body_predictions)\n",
    "    print(upper_body_score, upper_body_f1_score, upper_body_auc)"
   ]
  },
  {
   "cell_type": "code",
   "execution_count": 53,
   "metadata": {},
   "outputs": [],
   "source": [
    "def arms():\n",
    "    x_train, x_test, y_train, y_test = train_test_split(x_data, y_data_arms, test_size=0.65, random_state=3)\n",
    "    rf_arms = RandomForestClassifier(n_estimators=1, n_jobs=15, verbose=10).fit(x_train, y_train)\n",
    "    arms_predictions = rf_arms.predict(x_test)\n",
    "    arms_score = accuracy_score(y_test, arms_predictions)\n",
    "    arms_f1_score = f1_score(y_test, arms_predictions)\n",
    "    arms_auc = roc_auc_score(y_test, arms_predictions)\n",
    "    print(arms_score, arms_f1_score, arms_auc)"
   ]
  },
  {
   "cell_type": "code",
   "execution_count": 63,
   "metadata": {},
   "outputs": [],
   "source": [
    "def head():\n",
    "    x_train, x_test, y_train, y_test = train_test_split(x_data, y_data_head, test_size=0.55, random_state=3)\n",
    "    rf_head = RandomForestClassifier(n_estimators=1, n_jobs=50, verbose=10).fit(x_train, y_train)\n",
    "    head_predictions = rf_head.predict(x_test)\n",
    "    head_score = accuracy_score(y_test, head_predictions)\n",
    "    head_f1_score = f1_score(y_test, head_predictions)\n",
    "    head_auc = roc_auc_score(y_test, head_predictions)\n",
    "    print(head_score, head_f1_score, head_auc)"
   ]
  },
  {
   "cell_type": "code",
   "execution_count": 27,
   "metadata": {},
   "outputs": [],
   "source": [
    "def minor():\n",
    "    x_train, x_test, y_train, y_test = train_test_split(x_data, y_data_minor, test_size=0.25, random_state=3)\n",
    "    rf_minor = RandomForestClassifier(n_estimators=7, n_jobs=-1, verbose=10).fit(x_train, y_train)\n",
    "    minor_predictions = rf_minor.predict(x_test)\n",
    "    minor_score = accuracy_score(y_test, minor_predictions)\n",
    "    minor_f1_score = f1_score(y_test, minor_predictions)\n",
    "    minor_auc = roc_auc_score(y_test, minor_predictions)\n",
    "    print(minor_score, minor_f1_score, minor_auc)"
   ]
  },
  {
   "cell_type": "code",
   "execution_count": 28,
   "metadata": {},
   "outputs": [],
   "source": [
    "def injury():\n",
    "    x_train, x_test, y_train, y_test = train_test_split(x_data, y_data_injury, test_size=0.25, random_state=3)\n",
    "    rf_injury = RandomForestClassifier(n_estimators=7, n_jobs=-1, verbose=10).fit(x_train, y_train)\n",
    "    injury_predictions = rf_injury.predict(x_test)\n",
    "    injury_score = accuracy_score(y_test, injury_predictions)\n",
    "    injury_f1_score = f1_score(y_test, injury_predictions)\n",
    "    injury_auc = roc_auc_score(y_test, injury_predictions)\n",
    "    print(injury_score, injury_f1_score, injury_auc)"
   ]
  },
  {
   "cell_type": "code",
   "execution_count": 38,
   "metadata": {},
   "outputs": [
    {
     "name": "stdout",
     "output_type": "stream",
     "text": [
      "building tree 1 of 3building tree 2 of 3\n",
      "\n",
      "building tree 3 of 3\n",
      "0.996996996996997 0.9972451790633609 0.9967105263157895\n"
     ]
    },
    {
     "name": "stderr",
     "output_type": "stream",
     "text": [
      "[Parallel(n_jobs=-1)]: Using backend ThreadingBackend with 16 concurrent workers.\n",
      "[Parallel(n_jobs=-1)]: Done   3 out of   3 | elapsed:    0.0s remaining:    0.0s\n",
      "[Parallel(n_jobs=-1)]: Done   3 out of   3 | elapsed:    0.0s finished\n",
      "[Parallel(n_jobs=3)]: Using backend ThreadingBackend with 3 concurrent workers.\n",
      "[Parallel(n_jobs=3)]: Done   3 out of   3 | elapsed:    0.0s remaining:    0.0s\n",
      "[Parallel(n_jobs=3)]: Done   3 out of   3 | elapsed:    0.0s finished\n"
     ]
    }
   ],
   "source": [
    "foot()"
   ]
  },
  {
   "cell_type": "code",
   "execution_count": 44,
   "metadata": {},
   "outputs": [
    {
     "name": "stdout",
     "output_type": "stream",
     "text": [
      "building tree 1 of 1\n",
      "0.978978978978979 0.9767441860465117 0.9785132086456588\n"
     ]
    },
    {
     "name": "stderr",
     "output_type": "stream",
     "text": [
      "[Parallel(n_jobs=12)]: Using backend ThreadingBackend with 12 concurrent workers.\n",
      "[Parallel(n_jobs=12)]: Done   1 tasks      | elapsed:    0.0s\n",
      "[Parallel(n_jobs=12)]: Done   1 out of   1 | elapsed:    0.0s finished\n",
      "[Parallel(n_jobs=1)]: Using backend SequentialBackend with 1 concurrent workers.\n",
      "[Parallel(n_jobs=1)]: Done   1 out of   1 | elapsed:    0.0s remaining:    0.0s\n",
      "[Parallel(n_jobs=1)]: Done   1 out of   1 | elapsed:    0.0s finished\n"
     ]
    }
   ],
   "source": [
    "lower_leg()"
   ]
  },
  {
   "cell_type": "code",
   "execution_count": 46,
   "metadata": {},
   "outputs": [
    {
     "name": "stdout",
     "output_type": "stream",
     "text": [
      "building tree 1 of 3\n",
      "building tree 2 of 3\n",
      "building tree 3 of 3\n",
      "0.993993993993994 0.995049504950495 0.9950738916256158\n"
     ]
    },
    {
     "name": "stderr",
     "output_type": "stream",
     "text": [
      "[Parallel(n_jobs=-1)]: Using backend ThreadingBackend with 16 concurrent workers.\n",
      "[Parallel(n_jobs=-1)]: Done   3 out of   3 | elapsed:    0.0s remaining:    0.0s\n",
      "[Parallel(n_jobs=-1)]: Done   3 out of   3 | elapsed:    0.0s finished\n",
      "[Parallel(n_jobs=3)]: Using backend ThreadingBackend with 3 concurrent workers.\n",
      "[Parallel(n_jobs=3)]: Done   3 out of   3 | elapsed:    0.0s remaining:    0.0s\n",
      "[Parallel(n_jobs=3)]: Done   3 out of   3 | elapsed:    0.0s finished\n"
     ]
    }
   ],
   "source": [
    "upper_leg()"
   ]
  },
  {
   "cell_type": "code",
   "execution_count": 32,
   "metadata": {},
   "outputs": [
    {
     "name": "stdout",
     "output_type": "stream",
     "text": [
      "building tree 1 of 7\n",
      "building tree 2 of 7\n",
      "building tree 3 of 7\n",
      "building tree 4 of 7\n",
      "building tree 5 of 7\n",
      "building tree 6 of 7\n",
      "building tree 7 of 7\n",
      "0.996996996996997 0.9973190348525469 0.9973262032085561\n"
     ]
    },
    {
     "name": "stderr",
     "output_type": "stream",
     "text": [
      "[Parallel(n_jobs=-1)]: Using backend ThreadingBackend with 16 concurrent workers.\n",
      "[Parallel(n_jobs=-1)]: Done   1 tasks      | elapsed:    0.0s\n",
      "[Parallel(n_jobs=-1)]: Done   2 out of   7 | elapsed:    0.0s remaining:    0.0s\n",
      "[Parallel(n_jobs=-1)]: Done   3 out of   7 | elapsed:    0.0s remaining:    0.0s\n",
      "[Parallel(n_jobs=-1)]: Done   4 out of   7 | elapsed:    0.0s remaining:    0.0s\n",
      "[Parallel(n_jobs=-1)]: Done   5 out of   7 | elapsed:    0.0s remaining:    0.0s\n",
      "[Parallel(n_jobs=-1)]: Done   7 out of   7 | elapsed:    0.0s remaining:    0.0s\n",
      "[Parallel(n_jobs=-1)]: Done   7 out of   7 | elapsed:    0.0s finished\n",
      "[Parallel(n_jobs=7)]: Using backend ThreadingBackend with 7 concurrent workers.\n",
      "[Parallel(n_jobs=7)]: Done   1 tasks      | elapsed:    0.0s\n",
      "[Parallel(n_jobs=7)]: Done   2 out of   7 | elapsed:    0.0s remaining:    0.0s\n",
      "[Parallel(n_jobs=7)]: Done   3 out of   7 | elapsed:    0.0s remaining:    0.0s\n",
      "[Parallel(n_jobs=7)]: Done   4 out of   7 | elapsed:    0.0s remaining:    0.0s\n",
      "[Parallel(n_jobs=7)]: Done   5 out of   7 | elapsed:    0.0s remaining:    0.0s\n",
      "[Parallel(n_jobs=7)]: Done   7 out of   7 | elapsed:    0.0s remaining:    0.0s\n",
      "[Parallel(n_jobs=7)]: Done   7 out of   7 | elapsed:    0.0s finished\n"
     ]
    }
   ],
   "source": [
    "upper_body()"
   ]
  },
  {
   "cell_type": "code",
   "execution_count": 54,
   "metadata": {},
   "outputs": [
    {
     "name": "stdout",
     "output_type": "stream",
     "text": [
      "building tree 1 of 1\n",
      "0.9803695150115473 0.9787234042553192 0.9803389630392898\n"
     ]
    },
    {
     "name": "stderr",
     "output_type": "stream",
     "text": [
      "[Parallel(n_jobs=15)]: Using backend ThreadingBackend with 15 concurrent workers.\n",
      "[Parallel(n_jobs=15)]: Done   1 tasks      | elapsed:    0.0s\n",
      "[Parallel(n_jobs=15)]: Done   1 out of   1 | elapsed:    0.0s finished\n",
      "[Parallel(n_jobs=1)]: Using backend SequentialBackend with 1 concurrent workers.\n",
      "[Parallel(n_jobs=1)]: Done   1 out of   1 | elapsed:    0.0s remaining:    0.0s\n",
      "[Parallel(n_jobs=1)]: Done   1 out of   1 | elapsed:    0.0s finished\n"
     ]
    }
   ],
   "source": [
    "arms()"
   ]
  },
  {
   "cell_type": "code",
   "execution_count": 64,
   "metadata": {},
   "outputs": [
    {
     "name": "stdout",
     "output_type": "stream",
     "text": [
      "building tree 1 of 1\n",
      "0.9959072305593452 0.986784140969163 0.9975845410628019\n"
     ]
    },
    {
     "name": "stderr",
     "output_type": "stream",
     "text": [
      "[Parallel(n_jobs=50)]: Using backend ThreadingBackend with 50 concurrent workers.\n",
      "[Parallel(n_jobs=50)]: Done   1 tasks      | elapsed:    0.0s\n",
      "[Parallel(n_jobs=50)]: Done   1 out of   1 | elapsed:    0.0s finished\n",
      "[Parallel(n_jobs=1)]: Using backend SequentialBackend with 1 concurrent workers.\n",
      "[Parallel(n_jobs=1)]: Done   1 out of   1 | elapsed:    0.0s remaining:    0.0s\n",
      "[Parallel(n_jobs=1)]: Done   1 out of   1 | elapsed:    0.0s finished\n"
     ]
    }
   ],
   "source": [
    "head()"
   ]
  },
  {
   "cell_type": "code",
   "execution_count": 35,
   "metadata": {},
   "outputs": [
    {
     "name": "stdout",
     "output_type": "stream",
     "text": [
      "building tree 1 of 7\n",
      "building tree 2 of 7\n",
      "building tree 3 of 7\n",
      "building tree 4 of 7\n",
      "building tree 5 of 7\n",
      "building tree 6 of 7\n",
      "building tree 7 of 7\n",
      "0.987987987987988 0.9919354838709677 0.992\n"
     ]
    },
    {
     "name": "stderr",
     "output_type": "stream",
     "text": [
      "[Parallel(n_jobs=-1)]: Using backend ThreadingBackend with 16 concurrent workers.\n",
      "[Parallel(n_jobs=-1)]: Done   1 tasks      | elapsed:    0.0s\n",
      "[Parallel(n_jobs=-1)]: Done   2 out of   7 | elapsed:    0.0s remaining:    0.0s\n",
      "[Parallel(n_jobs=-1)]: Done   3 out of   7 | elapsed:    0.0s remaining:    0.0s\n",
      "[Parallel(n_jobs=-1)]: Done   4 out of   7 | elapsed:    0.0s remaining:    0.0s\n",
      "[Parallel(n_jobs=-1)]: Done   5 out of   7 | elapsed:    0.0s remaining:    0.0s\n",
      "[Parallel(n_jobs=-1)]: Done   7 out of   7 | elapsed:    0.0s remaining:    0.0s\n",
      "[Parallel(n_jobs=-1)]: Done   7 out of   7 | elapsed:    0.0s finished\n",
      "[Parallel(n_jobs=7)]: Using backend ThreadingBackend with 7 concurrent workers.\n",
      "[Parallel(n_jobs=7)]: Done   1 tasks      | elapsed:    0.0s\n",
      "[Parallel(n_jobs=7)]: Done   2 out of   7 | elapsed:    0.0s remaining:    0.0s\n",
      "[Parallel(n_jobs=7)]: Done   3 out of   7 | elapsed:    0.0s remaining:    0.0s\n",
      "[Parallel(n_jobs=7)]: Done   4 out of   7 | elapsed:    0.0s remaining:    0.0s\n",
      "[Parallel(n_jobs=7)]: Done   5 out of   7 | elapsed:    0.0s remaining:    0.0s\n",
      "[Parallel(n_jobs=7)]: Done   7 out of   7 | elapsed:    0.0s remaining:    0.0s\n",
      "[Parallel(n_jobs=7)]: Done   7 out of   7 | elapsed:    0.0s finished\n"
     ]
    }
   ],
   "source": [
    "minor()"
   ]
  },
  {
   "cell_type": "code",
   "execution_count": 36,
   "metadata": {},
   "outputs": [
    {
     "name": "stdout",
     "output_type": "stream",
     "text": [
      "building tree 1 of 7\n",
      "building tree 2 of 7\n",
      "building tree 3 of 7\n",
      "building tree 4 of 7\n",
      "building tree 5 of 7\n",
      "building tree 6 of 7\n",
      "building tree 7 of 7\n",
      "0.993993993993994 0.9964028776978416 0.9964157706093191\n"
     ]
    },
    {
     "name": "stderr",
     "output_type": "stream",
     "text": [
      "[Parallel(n_jobs=-1)]: Using backend ThreadingBackend with 16 concurrent workers.\n",
      "[Parallel(n_jobs=-1)]: Done   1 tasks      | elapsed:    0.0s\n",
      "[Parallel(n_jobs=-1)]: Done   2 out of   7 | elapsed:    0.0s remaining:    0.0s\n",
      "[Parallel(n_jobs=-1)]: Done   3 out of   7 | elapsed:    0.0s remaining:    0.0s\n",
      "[Parallel(n_jobs=-1)]: Done   4 out of   7 | elapsed:    0.0s remaining:    0.0s\n",
      "[Parallel(n_jobs=-1)]: Done   5 out of   7 | elapsed:    0.0s remaining:    0.0s\n",
      "[Parallel(n_jobs=-1)]: Done   7 out of   7 | elapsed:    0.0s remaining:    0.0s\n",
      "[Parallel(n_jobs=-1)]: Done   7 out of   7 | elapsed:    0.0s finished\n",
      "[Parallel(n_jobs=7)]: Using backend ThreadingBackend with 7 concurrent workers.\n",
      "[Parallel(n_jobs=7)]: Done   1 tasks      | elapsed:    0.0s\n",
      "[Parallel(n_jobs=7)]: Done   2 out of   7 | elapsed:    0.0s remaining:    0.0s\n",
      "[Parallel(n_jobs=7)]: Done   3 out of   7 | elapsed:    0.0s remaining:    0.0s\n",
      "[Parallel(n_jobs=7)]: Done   4 out of   7 | elapsed:    0.0s remaining:    0.0s\n",
      "[Parallel(n_jobs=7)]: Done   5 out of   7 | elapsed:    0.0s remaining:    0.0s\n",
      "[Parallel(n_jobs=7)]: Done   7 out of   7 | elapsed:    0.0s remaining:    0.0s\n",
      "[Parallel(n_jobs=7)]: Done   7 out of   7 | elapsed:    0.0s finished\n"
     ]
    }
   ],
   "source": [
    "injury()"
   ]
  },
  {
   "cell_type": "code",
   "execution_count": null,
   "metadata": {},
   "outputs": [],
   "source": []
  }
 ],
 "metadata": {
  "kernelspec": {
   "display_name": "Python 3",
   "language": "python",
   "name": "python3"
  },
  "language_info": {
   "codemirror_mode": {
    "name": "ipython",
    "version": 3
   },
   "file_extension": ".py",
   "mimetype": "text/x-python",
   "name": "python",
   "nbconvert_exporter": "python",
   "pygments_lexer": "ipython3",
   "version": "3.8.5"
  }
 },
 "nbformat": 4,
 "nbformat_minor": 5
}
