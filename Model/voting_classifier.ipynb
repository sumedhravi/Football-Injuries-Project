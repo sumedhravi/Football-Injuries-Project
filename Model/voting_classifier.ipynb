{
 "cells": [
  {
   "cell_type": "code",
   "execution_count": 1,
   "metadata": {},
   "outputs": [],
   "source": [
    "import pandas as pd\n",
    "import numpy as np\n",
    "from sklearn.model_selection import train_test_split\n",
    "from sklearn.linear_model import LogisticRegression\n",
    "from sklearn.naive_bayes import GaussianNB as NB\n",
    "from sklearn.ensemble import GradientBoostingClassifier as XgBoost\n",
    "from sklearn.ensemble import RandomForestClassifier as RF\n",
    "from sklearn.ensemble import VotingClassifier\n",
    "from sklearn import preprocessing\n",
    "from sklearn.utils import resample as resample\n",
    "from sklearn.metrics import accuracy_score, f1_score, roc_auc_score\n",
    "from sklearn.metrics import average_precision_score as auc\n",
    "from sklearn.metrics import precision_score as precision\n",
    "from sklearn.metrics import recall_score as recall\n",
    "from sklearn.pipeline import Pipeline\n",
    "from joblib import dump, load\n",
    "from sklearn.base import clone\n",
    "from imblearn.over_sampling import SMOTE"
   ]
  },
  {
   "cell_type": "code",
   "execution_count": 2,
   "metadata": {},
   "outputs": [],
   "source": [
    "data = pd.read_csv('final_dataset1.csv')"
   ]
  },
  {
   "cell_type": "code",
   "execution_count": 3,
   "metadata": {},
   "outputs": [],
   "source": [
    "data = data.drop(['Unnamed: 0'], axis=1)"
   ]
  },
  {
   "cell_type": "code",
   "execution_count": 4,
   "metadata": {},
   "outputs": [],
   "source": [
    "y_data_foot = data['foot']\n",
    "y_data_lower_leg = data['lower_leg']\n",
    "y_data_upper_leg = data['upper_leg']\n",
    "y_data_upper_body = data['upper_body']\n",
    "y_data_arms = data['arms']\n",
    "y_data_head = data['head']\n",
    "y_data_minor = data['minor']\n",
    "y_cols = ['foot', 'lower_leg', 'upper_leg', 'upper_body', 'arms', 'head', 'minor']\n",
    "x_data = data.drop(y_cols, axis=1)"
   ]
  },
  {
   "cell_type": "code",
   "execution_count": 11,
   "metadata": {},
   "outputs": [],
   "source": [
    "def foot():\n",
    "    x_train, x_test, y_train, y_test = train_test_split(x_data, y_data_foot, test_size=0.4, random_state=614)\n",
    "    smt = SMOTE(random_state=0)\n",
    "    x_train, y_train = smt.fit_resample(x_train, y_train)\n",
    "    foot_xg=load('Foot_XG.joblib')\n",
    "    foot_nb=load('Foot_NB.joblib')\n",
    "    foot_model=VotingClassifier(estimators=[\n",
    "        ('1', foot_xg), ('2', foot_nb)],voting='soft').fit(x_train,y_train)\n",
    "\n",
    "    foot_predictions = foot_model.predict(x_test)\n",
    "    foot_score = accuracy_score(y_test, foot_predictions)\n",
    "    foot_f1_score = f1_score(y_test, foot_predictions)\n",
    "    foot_auc = auc(y_test, foot_predictions)\n",
    "    print(foot_score, foot_f1_score, foot_auc,recall(y_test, foot_predictions),precision(y_test, foot_predictions))\n",
    "    dump(foot_model,'foot_final.joblib')"
   ]
  },
  {
   "cell_type": "code",
   "execution_count": 12,
   "metadata": {},
   "outputs": [
    {
     "name": "stdout",
     "output_type": "stream",
     "text": [
      "0.6673189823874756 0.10526315789473684 0.11066787094184354 0.16666666666666666 0.07692307692307693\n"
     ]
    }
   ],
   "source": [
    "foot()"
   ]
  },
  {
   "cell_type": "code",
   "execution_count": 13,
   "metadata": {},
   "outputs": [],
   "source": [
    "def lower_leg():\n",
    "    x_train, x_test, y_train, y_test = train_test_split(x_data, y_data_lower_leg, test_size=0.4, random_state=614)\n",
    "    smt = SMOTE(random_state=0)\n",
    "    x_train, y_train = smt.fit_resample(x_train, y_train)\n",
    "    foot_xg=load('Lleg_XG.joblib')\n",
    "    foot_nb=load('Lleg_RF.joblib')\n",
    "    foot_model=VotingClassifier(estimators=[\n",
    "        ('1', foot_xg), ('2', foot_nb)],voting='soft').fit(x_train,y_train)\n",
    "\n",
    "    foot_predictions = foot_model.predict(x_test)\n",
    "    foot_score = accuracy_score(y_test, foot_predictions)\n",
    "    foot_f1_score = f1_score(y_test, foot_predictions)\n",
    "    foot_auc = auc(y_test, foot_predictions)\n",
    "    print(foot_score, foot_f1_score, foot_auc,recall(y_test, foot_predictions),precision(y_test, foot_predictions))\n",
    "    dump(foot_model,'lower_leg_final.joblib')"
   ]
  },
  {
   "cell_type": "code",
   "execution_count": 14,
   "metadata": {},
   "outputs": [
    {
     "name": "stdout",
     "output_type": "stream",
     "text": [
      "0.9021526418786693 0.038461538461538464 0.08261578604044358 0.023809523809523808 0.1\n"
     ]
    }
   ],
   "source": [
    "lower_leg()"
   ]
  },
  {
   "cell_type": "code",
   "execution_count": 16,
   "metadata": {},
   "outputs": [],
   "source": [
    "def upper_leg():\n",
    "    x_train, x_test, y_train, y_test = train_test_split(x_data, y_data_upper_leg, test_size=0.4, random_state=614)\n",
    "    smt = SMOTE(random_state=0)\n",
    "    x_train, y_train = smt.fit_resample(x_train, y_train)\n",
    "    foot_xg=load('Uleg_RF.joblib')\n",
    "    foot_nb=load('Uleg_NB.joblib')\n",
    "    foot_model=VotingClassifier(estimators=[\n",
    "        ('1', foot_xg), ('2', foot_nb)],voting='soft').fit(x_train,y_train)\n",
    "\n",
    "    foot_predictions = foot_model.predict(x_test)\n",
    "    foot_score = accuracy_score(y_test, foot_predictions)\n",
    "    foot_f1_score = f1_score(y_test, foot_predictions)\n",
    "    foot_auc = auc(y_test, foot_predictions)\n",
    "    print(foot_score, foot_f1_score, foot_auc,recall(y_test, foot_predictions),precision(y_test, foot_predictions))\n",
    "    dump(foot_model,'upper_leg_final.joblib')"
   ]
  },
  {
   "cell_type": "code",
   "execution_count": 17,
   "metadata": {},
   "outputs": [
    {
     "name": "stdout",
     "output_type": "stream",
     "text": [
      "0.700587084148728 0.1452513966480447 0.1318551807533344 0.18840579710144928 0.11818181818181818\n"
     ]
    }
   ],
   "source": [
    "upper_leg()"
   ]
  },
  {
   "cell_type": "code",
   "execution_count": 18,
   "metadata": {},
   "outputs": [],
   "source": [
    "def upper_body():\n",
    "    x_train, x_test, y_train, y_test = train_test_split(x_data, y_data_upper_body, test_size=0.4, random_state=614)\n",
    "    smt = SMOTE(random_state=0)\n",
    "    x_train, y_train = smt.fit_resample(x_train, y_train)\n",
    "    foot_xg=load('Ubody_NB.joblib')\n",
    "    foot_nb=load('Ubody_XG.joblib')\n",
    "    foot_model=VotingClassifier(estimators=[\n",
    "        ('1', foot_xg), ('2', foot_nb)],voting='soft').fit(x_train,y_train)\n",
    "\n",
    "    foot_predictions = foot_model.predict(x_test)\n",
    "    foot_score = accuracy_score(y_test, foot_predictions)\n",
    "    foot_f1_score = f1_score(y_test, foot_predictions)\n",
    "    foot_auc = auc(y_test, foot_predictions)\n",
    "    print(foot_score, foot_f1_score, foot_auc,recall(y_test, foot_predictions),precision(y_test, foot_predictions))\n",
    "    dump(foot_model,'upper_body_final.joblib')"
   ]
  },
  {
   "cell_type": "code",
   "execution_count": 19,
   "metadata": {},
   "outputs": [
    {
     "name": "stdout",
     "output_type": "stream",
     "text": [
      "0.7455968688845401 0.1216216216216216 0.12269905821917808 0.140625 0.10714285714285714\n"
     ]
    }
   ],
   "source": [
    "upper_body()"
   ]
  },
  {
   "cell_type": "code",
   "execution_count": 20,
   "metadata": {},
   "outputs": [],
   "source": [
    "def arms():\n",
    "    x_train, x_test, y_train, y_test = train_test_split(x_data, y_data_arms, test_size=0.4, random_state=614)\n",
    "    smt = SMOTE(random_state=0)\n",
    "    x_train, y_train = smt.fit_resample(x_train, y_train)\n",
    "    foot_xg=load('Ubody_NB.joblib')\n",
    "    foot_nb=load('Ubody_XG.joblib')\n",
    "    foot_model=VotingClassifier(estimators=[\n",
    "        ('1', foot_xg), ('2', foot_nb)],voting='soft').fit(x_train,y_train)\n",
    "\n",
    "    foot_predictions = foot_model.predict(x_test)\n",
    "    foot_score = accuracy_score(y_test, foot_predictions)\n",
    "    foot_f1_score = f1_score(y_test, foot_predictions)\n",
    "    foot_auc = auc(y_test, foot_predictions)\n",
    "    print(foot_score, foot_f1_score, foot_auc,recall(y_test, foot_predictions),precision(y_test, foot_predictions))\n",
    "    dump(foot_model,'arms_final.joblib')"
   ]
  },
  {
   "cell_type": "code",
   "execution_count": 21,
   "metadata": {},
   "outputs": [
    {
     "name": "stdout",
     "output_type": "stream",
     "text": [
      "0.547945205479452 0.18947368421052635 0.11729457558433233 0.4576271186440678 0.11946902654867257\n"
     ]
    }
   ],
   "source": [
    "arms()"
   ]
  },
  {
   "cell_type": "code",
   "execution_count": 23,
   "metadata": {},
   "outputs": [],
   "source": [
    "model_test=load('Head_NB.joblib')"
   ]
  },
  {
   "cell_type": "code",
   "execution_count": 24,
   "metadata": {},
   "outputs": [],
   "source": [
    "x_train, x_test, y_train, y_test = train_test_split(x_data, y_data_foot, test_size=0.4, random_state=614)"
   ]
  },
  {
   "cell_type": "code",
   "execution_count": 52,
   "metadata": {},
   "outputs": [
    {
     "data": {
      "text/plain": [
       "0.0"
      ]
     },
     "execution_count": 52,
     "metadata": {},
     "output_type": "execute_result"
    }
   ],
   "source": [
    "round(model_test.predict_proba(np.array(x_train.iloc[0,:]).reshape(1, -1))[0][0],3)"
   ]
  },
  {
   "cell_type": "code",
   "execution_count": 44,
   "metadata": {},
   "outputs": [
    {
     "data": {
      "text/plain": [
       "array([[ 31., 185.,  76.,   0.,   0.,   0.,   0.,   0.,   0.,   1.,   0.,\n",
       "          0.,   0.,   0.,   0.,   0.,   0.,   0.,   0.,   0.,   0.,   0.,\n",
       "          0.,   0.,   0.,   0.,   0.,   0.,   0.,   0.]])"
      ]
     },
     "execution_count": 44,
     "metadata": {},
     "output_type": "execute_result"
    }
   ],
   "source": [
    "np.array(x_train.iloc[0,:]).reshape(1, -1)"
   ]
  },
  {
   "cell_type": "code",
   "execution_count": null,
   "metadata": {},
   "outputs": [],
   "source": []
  }
 ],
 "metadata": {
  "kernelspec": {
   "display_name": "Python 3",
   "language": "python",
   "name": "python3"
  },
  "language_info": {
   "codemirror_mode": {
    "name": "ipython",
    "version": 3
   },
   "file_extension": ".py",
   "mimetype": "text/x-python",
   "name": "python",
   "nbconvert_exporter": "python",
   "pygments_lexer": "ipython3",
   "version": "3.7.4"
  }
 },
 "nbformat": 4,
 "nbformat_minor": 2
}
