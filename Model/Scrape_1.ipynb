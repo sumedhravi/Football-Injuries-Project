{
 "cells": [
  {
   "cell_type": "code",
   "execution_count": 1,
   "metadata": {},
   "outputs": [],
   "source": [
    "import pandas as pd\n",
    "from bs4 import BeautifulSoup\n",
    "import requests\n",
    "import re\n",
    "import json"
   ]
  },
  {
   "cell_type": "code",
   "execution_count": 2,
   "metadata": {},
   "outputs": [],
   "source": [
    "base_url=\"https://www.transfermarkt.co.uk\"\n",
    "headers = {'User-Agent': \n",
    "           'Mozilla/5.0 (X11; Linux x86_64) AppleWebKit/537.36 (KHTML, like Gecko) Chrome/47.0.2526.106 Safari/537.36'}"
   ]
  },
  {
   "cell_type": "code",
   "execution_count": 45,
   "metadata": {},
   "outputs": [],
   "source": [
    "#takes years in STR (2020,2019, etc)\n",
    "#takes leauge accorinng to TransferMarkt format\n",
    " #English Premier = GB1\n",
    " #Spain La Liga = ES1\n",
    " #Italt Serie A = IT1\n",
    " #Germany BundesLiga = L1\n",
    " #France Ligue1 = FR1\n",
    "\n",
    "        \n",
    "def get_data(league, leagueID, years): #Returns a single DF with TransferMarkt ID, name, position, team, and dict of injuries \n",
    "    base_url=\"https://www.transfermarkt.co.uk\"\n",
    "    headers = {'User-Agent': \n",
    "           'Mozilla/5.0 (X11; Linux x86_64) AppleWebKit/537.36 (KHTML, like Gecko) Chrome/47.0.2526.106 Safari/537.36'}\n",
    "    \n",
    "    #Collect the list of all teams and generate links from the teams list\n",
    "#     page = 'https://www.transfermarkt.co.uk/premier-league/startseite/wettbewerb/'+league+'/plus/?saison_id='+str(years)\n",
    "    page = 'https://www.transfermarkt.co.uk/'+league+'/startseite/wettbewerb/'+leagueID+'/plus/?saison_id='+str(years)\n",
    "    tree = requests.get(page, headers = headers)\n",
    "    soup = BeautifulSoup(tree.content, 'html.parser')\n",
    "\n",
    "    teams = soup.find(\"table\", class_=\"items\").find(\"tbody\")\n",
    "    link=teams.find_all(\"a\", class_=\"vereinprofil_tooltip\")\n",
    "    links=link[::3]\n",
    "    teamlist=[]\n",
    "    linklist=[]\n",
    "    \n",
    "    for i in range(len(links)):\n",
    "        teamlist.append(re.search(\"\\/(.*?)\\/\",links[i][\"href\"])[1])\n",
    "        linklist.append(base_url+links[i][\"href\"])\n",
    "\n",
    "    output=pd.DataFrame() # Create empty df \n",
    "    output2=pd.DataFrame()\n",
    "    \n",
    "    for j in range(len(linklist)): # Append data of each team to the output DF\n",
    "        soup1=BeautifulSoup(requests.get(linklist[j], headers = headers).content, 'html.parser')\n",
    "        playertable=soup1.find(\"table\", class_=\"items\") #Player list\n",
    "        playertable_inj=soup1.findAll(\"a\", {\"class\": \"spielprofil_tooltip\"})[::2] #Player list (sepeartely for injury)\n",
    "        #Injury list comes from another table on a separate URL\n",
    "        ids=[]\n",
    "        injury_list=[]\n",
    "        \n",
    "        for player in set(playertable_inj):\n",
    "            link_maker=str(player).split(\" \")[2].split(\"/\")\n",
    "            name=link_maker[1]\n",
    "            id1=link_maker[4][:-1]\n",
    "            ids.append(id1)\n",
    "            link_made=\"https://www.transfermarkt.co.uk/\"+name+\"/verletzungen/spieler/\"+id1\n",
    "            soup_inj=BeautifulSoup(requests.get(link_made, headers = headers).content, 'html.parser')\n",
    "            \n",
    "            inja = soup_inj.find(\"table\", class_=\"items\") #Check if there is injury data for the player\n",
    "            list_1=[]\n",
    "            if inja is not None:\n",
    "                injuries=inja.find(\"tbody\")\n",
    "                duration=[int(re.findall(\"\\d+\", x.text)[0]) for x in injuries.find_all(\"td\",class_=\"rechts\")[::2]]\n",
    "                inj_type=[x.text for x in injuries.find_all(\"td\",class_=\"hauptlink\")[::2]]\n",
    "                seasons=[x.text for x in injuries.find_all(\"td\",class_=\"zentriert\")[::3]]\n",
    "                began=[x.text for x in injuries.find_all(\"td\",class_=\"zentriert\")[1::3]]\n",
    "                end=[x.text for x in injuries.find_all(\"td\",class_=\"zentriert\")[2::3]]\n",
    "                details = [\"injury_type\", \"season\", \"duration\", \"began\", \"end\"]\n",
    "                \n",
    "                for n in range(len(inj_type)):\n",
    "                    list_1.extend([seasons[n],inj_type[n],duration[n],began[n],end[n]])\n",
    "            \n",
    "            injury_list.append(list_1)\n",
    "\n",
    "\n",
    "        rows = playertable.find_all('td',class_=\"posrela\")\n",
    "        players=[x.find(class_=\"spielprofil_tooltip\").text for x in rows]\n",
    "        positions=[x.find_all(\"td\")[-1].text for x in rows]\n",
    "        team=[teamlist[j]]*len(players)\n",
    "        data=pd.DataFrame(list(zip(ids,players,positions,team)))\n",
    "        data2=pd.DataFrame(injury_list)\n",
    "        output=output.append(data)\n",
    "        output2=output2.append(data2)\n",
    "\n",
    "    return_pd=pd.concat([output,output2],axis=1)\n",
    "    \n",
    "    return return_pd\n",
    "\n",
    "\n"
   ]
  },
  {
   "cell_type": "code",
   "execution_count": 46,
   "metadata": {},
   "outputs": [],
   "source": [
    "league_ids = ['GB1', 'ES1', 'IT1', 'L1', 'FR1']\n",
    "leagues = ['premier-league', 'laliga', 'serie-a', 'bundesliga', 'ligue-1',]"
   ]
  },
  {
   "cell_type": "code",
   "execution_count": 47,
   "metadata": {},
   "outputs": [],
   "source": [
    "prem = get_data(leagues[0], league_ids[0], 2020)\n",
    "esp = get_data(leagues[1], league_ids[1], 2020)\n",
    "italy = get_data(leagues[2], league_ids[2], 2020)\n",
    "ger = get_data(leagues[3], league_ids[3], 2020)\n",
    "fr = get_data(leagues[4], league_ids[4], 2020)"
   ]
  },
  {
   "cell_type": "code",
   "execution_count": 48,
   "metadata": {},
   "outputs": [],
   "source": [
    "allLeagueDFs = [prem, esp, italy, ger, fra]\n",
    "allLeagueData = pd.concat(allLeagueDFs)"
   ]
  },
  {
   "cell_type": "code",
   "execution_count": 1,
   "metadata": {},
   "outputs": [
    {
     "ename": "NameError",
     "evalue": "name 'allLeagueData' is not defined",
     "output_type": "error",
     "traceback": [
      "\u001b[1;31m---------------------------------------------------------------------------\u001b[0m",
      "\u001b[1;31mNameError\u001b[0m                                 Traceback (most recent call last)",
      "\u001b[1;32m<ipython-input-1-496f69a4c21c>\u001b[0m in \u001b[0;36m<module>\u001b[1;34m\u001b[0m\n\u001b[1;32m----> 1\u001b[1;33m \u001b[0mallLeagueData\u001b[0m\u001b[1;33m\u001b[0m\u001b[1;33m\u001b[0m\u001b[0m\n\u001b[0m",
      "\u001b[1;31mNameError\u001b[0m: name 'allLeagueData' is not defined"
     ]
    }
   ],
   "source": [
    "allLeagueData"
   ]
  },
  {
   "cell_type": "code",
   "execution_count": 50,
   "metadata": {},
   "outputs": [],
   "source": [
    "def set_col_names(return_pd):\n",
    "    \n",
    "    return_pd2 = return_pd\n",
    "    col_names = [None] * len(return_pd.columns)\n",
    "    first_four = ['id', 'name', 'position', 'team']\n",
    "    iterative_col_names = ['season', 'injury', 'days_of_injury', 'start_date', 'end_date'] * (len(return_pd.columns)-4)\n",
    "    for i in range(4):\n",
    "        col_names[i] = first_four[i]\n",
    "    for j in range(4,len(return_pd.columns)):\n",
    "        col_names[j] = iterative_col_names[j-4]\n",
    "    \n",
    "    return_pd2.columns = col_names\n",
    "    \n",
    "    \n",
    "    return return_pd2"
   ]
  },
  {
   "cell_type": "code",
   "execution_count": 53,
   "metadata": {},
   "outputs": [],
   "source": [
    "leaguedata = set_col_names(allLeagueData)\n",
    "leaguedata.to_csv('allLeagueData.csv')"
   ]
  }
 ],
 "metadata": {
  "kernelspec": {
   "display_name": "Python 3",
   "language": "python",
   "name": "python3"
  },
  "language_info": {
   "codemirror_mode": {
    "name": "ipython",
    "version": 3
   },
   "file_extension": ".py",
   "mimetype": "text/x-python",
   "name": "python",
   "nbconvert_exporter": "python",
   "pygments_lexer": "ipython3",
   "version": "3.7.4"
  }
 },
 "nbformat": 4,
 "nbformat_minor": 2
}
